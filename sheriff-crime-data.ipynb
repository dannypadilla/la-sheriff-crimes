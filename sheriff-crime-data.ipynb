{
 "cells": [
  {
   "cell_type": "markdown",
   "metadata": {},
   "source": [
    "# Sheriff Crime Data"
   ]
  },
  {
   "cell_type": "markdown",
   "metadata": {},
   "source": [
    "1. Import DATA\n",
    "  * Show the data\n",
    "  * Check size/shape\n",
    "2. this\n",
    "  * dis\n",
    "3. Preprocessing\n",
    "  * Date conversion\n",
    "    * One-Hot-Encode MONTHS\n",
    "      * Create a mapping function or dictionary (use LabelEncoder(); ez)\n",
    "      * then o.h.e.\n",
    "    * One-Hot-Encode DAY?\n",
    "      * create a range so it's not so much?\n",
    "        * example (1 - 10, 11 - 20, 21 - 31); 3 categories\n",
    "      * then o.h.e\n",
    "    * One-Hot_Encode TIME?\n",
    "      * same as DAY.. create categories/range\n",
    "        * (morning, 0:00 - 11:59a), (afternoon, 12 - 5:59p), (evening, 6 - 11:59p)\n",
    "        * or more specific?\n",
    "      * then o.h.e\n",
    "    * YEAR.... ez"
   ]
  },
  {
   "cell_type": "markdown",
   "metadata": {},
   "source": [
    "## Import the data"
   ]
  },
  {
   "cell_type": "code",
   "execution_count": 1,
   "metadata": {
    "collapsed": true
   },
   "outputs": [],
   "source": [
    "import pandas as pd\n",
    "import numpy as np\n",
    "\n",
    "from sklearn.preprocessing import LabelEncoder\n",
    "\n",
    "sheriff_df = pd.read_csv(\"LA_SHERIFF__CRIMES_-_LAST_12_MONTHS.csv\")\n",
    "sheriff_df = sheriff_df[pd.notnull(sheriff_df['LATITUDE'])]\n"
   ]
  },
  {
   "cell_type": "markdown",
   "metadata": {},
   "source": [
    "### Print it out"
   ]
  },
  {
   "cell_type": "code",
   "execution_count": 2,
   "metadata": {},
   "outputs": [
    {
     "data": {
      "text/html": [
       "<div>\n",
       "<style>\n",
       "    .dataframe thead tr:only-child th {\n",
       "        text-align: right;\n",
       "    }\n",
       "\n",
       "    .dataframe thead th {\n",
       "        text-align: left;\n",
       "    }\n",
       "\n",
       "    .dataframe tbody tr th {\n",
       "        vertical-align: top;\n",
       "    }\n",
       "</style>\n",
       "<table border=\"1\" class=\"dataframe\">\n",
       "  <thead>\n",
       "    <tr style=\"text-align: right;\">\n",
       "      <th></th>\n",
       "      <th>CRIME_DATE</th>\n",
       "      <th>CRIME_YEAR</th>\n",
       "      <th>CRIME_CATEGORY_NUMBER</th>\n",
       "      <th>CRIME_CATEGORY_DESCRIPTION</th>\n",
       "      <th>STATISTICAL_CODE</th>\n",
       "      <th>STATISTICAL_CODE_DESCRIPTION</th>\n",
       "      <th>VICTIM_COUNT</th>\n",
       "      <th>STREET</th>\n",
       "      <th>CITY</th>\n",
       "      <th>STATE</th>\n",
       "      <th>ZIP</th>\n",
       "      <th>LATITUDE</th>\n",
       "      <th>LONGITUDE</th>\n",
       "      <th>GANG_RELATED</th>\n",
       "      <th>REPORTING_DISTRICT</th>\n",
       "      <th>STATION_IDENTIFIER</th>\n",
       "      <th>STATION_NAME</th>\n",
       "      <th>CRIME_IDENTIFIER</th>\n",
       "      <th>LOCATION</th>\n",
       "    </tr>\n",
       "  </thead>\n",
       "  <tbody>\n",
       "    <tr>\n",
       "      <th>0</th>\n",
       "      <td>01/08/2017 11:01:30 AM</td>\n",
       "      <td>2017</td>\n",
       "      <td>6</td>\n",
       "      <td>LARCENY THEFT</td>\n",
       "      <td>389</td>\n",
       "      <td>THEFT, PETTY: Other (From Prvt Res, Boat, Plan...</td>\n",
       "      <td>1</td>\n",
       "      <td>44240 4TH ST E</td>\n",
       "      <td>LANCASTER</td>\n",
       "      <td>CA</td>\n",
       "      <td>NaN</td>\n",
       "      <td>34.686938</td>\n",
       "      <td>-118.123960</td>\n",
       "      <td>N</td>\n",
       "      <td>1133</td>\n",
       "      <td>CA0190024</td>\n",
       "      <td>LANCASTER</td>\n",
       "      <td>18052353</td>\n",
       "      <td>44240 4TH ST E\\nLANCASTER, CA\\n(34.68693834371...</td>\n",
       "    </tr>\n",
       "    <tr>\n",
       "      <th>24667</th>\n",
       "      <td>04/24/2017 12:04:00 AM</td>\n",
       "      <td>2017</td>\n",
       "      <td>10</td>\n",
       "      <td>FRAUD AND NSF CHECKS</td>\n",
       "      <td>117</td>\n",
       "      <td>IDENTITY THEFT (GOODS/SERVICES/CREDIT)</td>\n",
       "      <td>1</td>\n",
       "      <td>1620 RANGE CT</td>\n",
       "      <td>DIAMOND BAR</td>\n",
       "      <td>CA</td>\n",
       "      <td>91765.0</td>\n",
       "      <td>33.992848</td>\n",
       "      <td>-117.792427</td>\n",
       "      <td>N</td>\n",
       "      <td>2925</td>\n",
       "      <td>CA0190020</td>\n",
       "      <td>WALNUT</td>\n",
       "      <td>18203432</td>\n",
       "      <td>1620 RANGE CT\\nDIAMOND BAR, CA 91765\\n(33.9928...</td>\n",
       "    </tr>\n",
       "    <tr>\n",
       "      <th>45036</th>\n",
       "      <td>01/23/2017 12:01:00 PM</td>\n",
       "      <td>2017</td>\n",
       "      <td>6</td>\n",
       "      <td>LARCENY THEFT</td>\n",
       "      <td>383</td>\n",
       "      <td>THEFT, PETTY: Shoplifting (From Dept Store, Mk...</td>\n",
       "      <td>1</td>\n",
       "      <td>11620 ROSECRANS AVE</td>\n",
       "      <td>NORWALK</td>\n",
       "      <td>CA</td>\n",
       "      <td>90650.0</td>\n",
       "      <td>33.902624</td>\n",
       "      <td>-118.085850</td>\n",
       "      <td>N</td>\n",
       "      <td>453</td>\n",
       "      <td>CA0190004</td>\n",
       "      <td>NORWALK</td>\n",
       "      <td>18034936</td>\n",
       "      <td>11620 ROSECRANS AVE\\nNORWALK, CA 90650\\n(33.90...</td>\n",
       "    </tr>\n",
       "    <tr>\n",
       "      <th>65424</th>\n",
       "      <td>06/08/2017 01:06:00 PM</td>\n",
       "      <td>2017</td>\n",
       "      <td>4</td>\n",
       "      <td>AGGRAVATED ASSAULT</td>\n",
       "      <td>53</td>\n",
       "      <td>ASSAULT, AGGRAVATED: ADW - OTHER DANGEROUS WEAPON</td>\n",
       "      <td>2</td>\n",
       "      <td>44610 YUCCA AVE</td>\n",
       "      <td>LANCASTER</td>\n",
       "      <td>CA</td>\n",
       "      <td>NaN</td>\n",
       "      <td>34.693966</td>\n",
       "      <td>-118.134329</td>\n",
       "      <td>N</td>\n",
       "      <td>1133</td>\n",
       "      <td>CA0190024</td>\n",
       "      <td>LANCASTER</td>\n",
       "      <td>18232025</td>\n",
       "      <td>44610 YUCCA AVE\\nLANCASTER, CA\\n(34.6939661416...</td>\n",
       "    </tr>\n",
       "    <tr>\n",
       "      <th>85810</th>\n",
       "      <td>08/08/2017 11:08:00 AM</td>\n",
       "      <td>2017</td>\n",
       "      <td>11</td>\n",
       "      <td>SEX OFFENSES FELONIES</td>\n",
       "      <td>124</td>\n",
       "      <td>SEX FELONIES: Pandering</td>\n",
       "      <td>1</td>\n",
       "      <td>600 LONG BEACH BLVD</td>\n",
       "      <td>LONG BEACH</td>\n",
       "      <td>CA</td>\n",
       "      <td>NaN</td>\n",
       "      <td>33.774955</td>\n",
       "      <td>-118.188524</td>\n",
       "      <td>N</td>\n",
       "      <td>3200</td>\n",
       "      <td>CA0190080</td>\n",
       "      <td>HUMAN TRAFFICKING BUREAU</td>\n",
       "      <td>18293173</td>\n",
       "      <td>600 LONG BEACH BLVD\\nLONG BEACH, CA\\n(33.77495...</td>\n",
       "    </tr>\n",
       "    <tr>\n",
       "      <th>106178</th>\n",
       "      <td>07/01/2017 02:07:57 AM</td>\n",
       "      <td>2017</td>\n",
       "      <td>6</td>\n",
       "      <td>LARCENY THEFT</td>\n",
       "      <td>340</td>\n",
       "      <td>VEHICLE BURGLARY: Auto/Passenger Van Burglary</td>\n",
       "      <td>1</td>\n",
       "      <td>15520 S BROADWAY AVE</td>\n",
       "      <td>GARDENA</td>\n",
       "      <td>CA</td>\n",
       "      <td>NaN</td>\n",
       "      <td>33.890266</td>\n",
       "      <td>-118.279519</td>\n",
       "      <td>N</td>\n",
       "      <td>2871</td>\n",
       "      <td>CA0190042</td>\n",
       "      <td>COMPTON</td>\n",
       "      <td>18255212</td>\n",
       "      <td>15520 S BROADWAY AVE\\nGARDENA, CA\\n(33.8902655...</td>\n",
       "    </tr>\n",
       "    <tr>\n",
       "      <th>126547</th>\n",
       "      <td>10/18/2016 05:10:00 AM</td>\n",
       "      <td>2016</td>\n",
       "      <td>13</td>\n",
       "      <td>NON-AGGRAVATED ASSAULTS</td>\n",
       "      <td>144</td>\n",
       "      <td>ASSAULT, NON-AGG: Hands, Feet, Fist, Etc.</td>\n",
       "      <td>1</td>\n",
       "      <td>450 BAUCHET ST</td>\n",
       "      <td>LOS ANGELES</td>\n",
       "      <td>CA</td>\n",
       "      <td>90012.0</td>\n",
       "      <td>34.059141</td>\n",
       "      <td>-118.231065</td>\n",
       "      <td>N</td>\n",
       "      <td>5800</td>\n",
       "      <td>CA01900U2</td>\n",
       "      <td>TTCF</td>\n",
       "      <td>17938265</td>\n",
       "      <td>450 BAUCHET ST\\nLOS ANGELES, CA 90012\\n(34.059...</td>\n",
       "    </tr>\n",
       "    <tr>\n",
       "      <th>146905</th>\n",
       "      <td>08/02/2017 06:08:00 PM</td>\n",
       "      <td>2017</td>\n",
       "      <td>13</td>\n",
       "      <td>NON-AGGRAVATED ASSAULTS</td>\n",
       "      <td>144</td>\n",
       "      <td>ASSAULT, NON-AGG: Hands, Feet, Fist, Etc.</td>\n",
       "      <td>2</td>\n",
       "      <td>29340 THE OLD RD</td>\n",
       "      <td>CASTAIC</td>\n",
       "      <td>CA</td>\n",
       "      <td>91384.0</td>\n",
       "      <td>34.450894</td>\n",
       "      <td>-118.613466</td>\n",
       "      <td>N</td>\n",
       "      <td>5640</td>\n",
       "      <td>CA0190087</td>\n",
       "      <td>NCCF</td>\n",
       "      <td>18287602</td>\n",
       "      <td>29340 THE OLD RD\\nCASTAIC, CA 91384\\n(34.45089...</td>\n",
       "    </tr>\n",
       "    <tr>\n",
       "      <th>167285</th>\n",
       "      <td>01/31/2017 12:01:00 AM</td>\n",
       "      <td>2017</td>\n",
       "      <td>24</td>\n",
       "      <td>VANDALISM</td>\n",
       "      <td>263</td>\n",
       "      <td>VANDALISM FELONY</td>\n",
       "      <td>1</td>\n",
       "      <td>11460 RATLIFFE ST</td>\n",
       "      <td>NORWALK</td>\n",
       "      <td>CA</td>\n",
       "      <td>NaN</td>\n",
       "      <td>33.913530</td>\n",
       "      <td>-118.089885</td>\n",
       "      <td>N</td>\n",
       "      <td>453</td>\n",
       "      <td>CA0190004</td>\n",
       "      <td>NORWALK</td>\n",
       "      <td>18043234</td>\n",
       "      <td>11460 RATLIFFE ST\\nNORWALK, CA\\n(33.9135299322...</td>\n",
       "    </tr>\n",
       "  </tbody>\n",
       "</table>\n",
       "</div>"
      ],
      "text/plain": [
       "                    CRIME_DATE  CRIME_YEAR  CRIME_CATEGORY_NUMBER  \\\n",
       "0       01/08/2017 11:01:30 AM        2017                      6   \n",
       "24667   04/24/2017 12:04:00 AM        2017                     10   \n",
       "45036   01/23/2017 12:01:00 PM        2017                      6   \n",
       "65424   06/08/2017 01:06:00 PM        2017                      4   \n",
       "85810   08/08/2017 11:08:00 AM        2017                     11   \n",
       "106178  07/01/2017 02:07:57 AM        2017                      6   \n",
       "126547  10/18/2016 05:10:00 AM        2016                     13   \n",
       "146905  08/02/2017 06:08:00 PM        2017                     13   \n",
       "167285  01/31/2017 12:01:00 AM        2017                     24   \n",
       "\n",
       "       CRIME_CATEGORY_DESCRIPTION  STATISTICAL_CODE  \\\n",
       "0                   LARCENY THEFT               389   \n",
       "24667        FRAUD AND NSF CHECKS               117   \n",
       "45036               LARCENY THEFT               383   \n",
       "65424          AGGRAVATED ASSAULT                53   \n",
       "85810       SEX OFFENSES FELONIES               124   \n",
       "106178              LARCENY THEFT               340   \n",
       "126547    NON-AGGRAVATED ASSAULTS               144   \n",
       "146905    NON-AGGRAVATED ASSAULTS               144   \n",
       "167285                  VANDALISM               263   \n",
       "\n",
       "                             STATISTICAL_CODE_DESCRIPTION  VICTIM_COUNT  \\\n",
       "0       THEFT, PETTY: Other (From Prvt Res, Boat, Plan...             1   \n",
       "24667              IDENTITY THEFT (GOODS/SERVICES/CREDIT)             1   \n",
       "45036   THEFT, PETTY: Shoplifting (From Dept Store, Mk...             1   \n",
       "65424   ASSAULT, AGGRAVATED: ADW - OTHER DANGEROUS WEAPON             2   \n",
       "85810                             SEX FELONIES: Pandering             1   \n",
       "106178      VEHICLE BURGLARY: Auto/Passenger Van Burglary             1   \n",
       "126547          ASSAULT, NON-AGG: Hands, Feet, Fist, Etc.             1   \n",
       "146905          ASSAULT, NON-AGG: Hands, Feet, Fist, Etc.             2   \n",
       "167285                                   VANDALISM FELONY             1   \n",
       "\n",
       "                      STREET         CITY STATE      ZIP   LATITUDE  \\\n",
       "0             44240 4TH ST E    LANCASTER    CA      NaN  34.686938   \n",
       "24667          1620 RANGE CT  DIAMOND BAR    CA  91765.0  33.992848   \n",
       "45036    11620 ROSECRANS AVE      NORWALK    CA  90650.0  33.902624   \n",
       "65424        44610 YUCCA AVE    LANCASTER    CA      NaN  34.693966   \n",
       "85810    600 LONG BEACH BLVD   LONG BEACH    CA      NaN  33.774955   \n",
       "106178  15520 S BROADWAY AVE      GARDENA    CA      NaN  33.890266   \n",
       "126547        450 BAUCHET ST  LOS ANGELES    CA  90012.0  34.059141   \n",
       "146905      29340 THE OLD RD      CASTAIC    CA  91384.0  34.450894   \n",
       "167285     11460 RATLIFFE ST      NORWALK    CA      NaN  33.913530   \n",
       "\n",
       "         LONGITUDE GANG_RELATED  REPORTING_DISTRICT STATION_IDENTIFIER  \\\n",
       "0      -118.123960            N                1133          CA0190024   \n",
       "24667  -117.792427            N                2925          CA0190020   \n",
       "45036  -118.085850            N                 453          CA0190004   \n",
       "65424  -118.134329            N                1133          CA0190024   \n",
       "85810  -118.188524            N                3200          CA0190080   \n",
       "106178 -118.279519            N                2871          CA0190042   \n",
       "126547 -118.231065            N                5800          CA01900U2   \n",
       "146905 -118.613466            N                5640          CA0190087   \n",
       "167285 -118.089885            N                 453          CA0190004   \n",
       "\n",
       "                    STATION_NAME  CRIME_IDENTIFIER  \\\n",
       "0                      LANCASTER          18052353   \n",
       "24667                     WALNUT          18203432   \n",
       "45036                    NORWALK          18034936   \n",
       "65424                  LANCASTER          18232025   \n",
       "85810   HUMAN TRAFFICKING BUREAU          18293173   \n",
       "106178                   COMPTON          18255212   \n",
       "126547                      TTCF          17938265   \n",
       "146905                      NCCF          18287602   \n",
       "167285                   NORWALK          18043234   \n",
       "\n",
       "                                                 LOCATION  \n",
       "0       44240 4TH ST E\\nLANCASTER, CA\\n(34.68693834371...  \n",
       "24667   1620 RANGE CT\\nDIAMOND BAR, CA 91765\\n(33.9928...  \n",
       "45036   11620 ROSECRANS AVE\\nNORWALK, CA 90650\\n(33.90...  \n",
       "65424   44610 YUCCA AVE\\nLANCASTER, CA\\n(34.6939661416...  \n",
       "85810   600 LONG BEACH BLVD\\nLONG BEACH, CA\\n(33.77495...  \n",
       "106178  15520 S BROADWAY AVE\\nGARDENA, CA\\n(33.8902655...  \n",
       "126547  450 BAUCHET ST\\nLOS ANGELES, CA 90012\\n(34.059...  \n",
       "146905  29340 THE OLD RD\\nCASTAIC, CA 91384\\n(34.45089...  \n",
       "167285  11460 RATLIFFE ST\\nNORWALK, CA\\n(33.9135299322...  "
      ]
     },
     "execution_count": 2,
     "metadata": {},
     "output_type": "execute_result"
    }
   ],
   "source": [
    "sheriff_df[::20000]"
   ]
  },
  {
   "cell_type": "markdown",
   "metadata": {},
   "source": [
    "### Print size/shape of Dataset"
   ]
  },
  {
   "cell_type": "code",
   "execution_count": 3,
   "metadata": {},
   "outputs": [
    {
     "name": "stdout",
     "output_type": "stream",
     "text": [
      "(161431, 19)\n"
     ]
    }
   ],
   "source": [
    "print(sheriff_df.shape)"
   ]
  },
  {
   "cell_type": "markdown",
   "metadata": {},
   "source": [
    "### Define features and label"
   ]
  },
  {
   "cell_type": "code",
   "execution_count": 4,
   "metadata": {
    "collapsed": true
   },
   "outputs": [],
   "source": [
    "''' keeping for now... so we don't have to rewrite?? \n",
    "all_columns = ['CRIME_DATE', 'CRIME_YEAR', 'CRIME_CATEGORY_NUMBER',\n",
    "       'CRIME_CATEGORY_DESCRIPTION', 'STATISTICAL_CODE',\n",
    "       'STATISTICAL_CODE_DESCRIPTION', 'VICTIM_COUNT', 'STREET', 'CITY',\n",
    "       'STATE', 'ZIP', 'LATITUDE', 'LONGITUDE', 'GANG_RELATED',\n",
    "       'REPORTING_DISTRICT', 'STATION_IDENTIFIER', 'STATION_NAME',\n",
    "       'CRIME_IDENTIFIER', 'LOCATION']\n",
    "'''\n",
    "\n",
    "# edit features to include here\n",
    "feat_cols = ['CRIME_DATE', 'CRIME_YEAR',\n",
    "             'CITY', 'LATITUDE', 'LONGITUDE',\n",
    "             'REPORTING_DISTRICT',\n",
    "             'CRIME_IDENTIFIER', 'LOCATION']\n",
    "\n",
    "label_col = [\"CRIME_CATEGORY_NUMBER\"]\n"
   ]
  },
  {
   "cell_type": "markdown",
   "metadata": {},
   "source": [
    "#### Mapping CRIME_CATEGORY_DESCRIPTION to CRIME_CATEGORY_NUMBER, and reverse (Might be useful later)"
   ]
  },
  {
   "cell_type": "code",
   "execution_count": 5,
   "metadata": {},
   "outputs": [
    {
     "data": {
      "text/plain": [
       "'\\nclass_mapping = {label:id_num for id_num, label in enumerate(np.unique(X_sheriff_df[\"CRIME_CATEGORY_DESCRIPTION\"]) )}\\nprint(class_mapping) # returns as dict obj - maybe below is better\\n\\n# or\\n\\nclass_le = LabelEncoder() # does above automatically; but returns as numpy array\\ny_map = class_le.fit_transform(X_sheriff_df[\"CRIME_CATEGORY_DESCRIPTION\"])\\nprint(y_map)\\ny_inverse = class_le.inverse_transform(y_map) # undo transform - back to string\\nprint(y_inverse)\\n'"
      ]
     },
     "execution_count": 5,
     "metadata": {},
     "output_type": "execute_result"
    }
   ],
   "source": [
    "'''\n",
    "class_mapping = {label:id_num for id_num, label in enumerate(np.unique(X_sheriff_df[\"CRIME_CATEGORY_DESCRIPTION\"]) )}\n",
    "print(class_mapping) # returns as dict obj - maybe below is better\n",
    "\n",
    "# or\n",
    "\n",
    "class_le = LabelEncoder() # does above automatically; but returns as numpy array\n",
    "y_map = class_le.fit_transform(X_sheriff_df[\"CRIME_CATEGORY_DESCRIPTION\"])\n",
    "print(y_map)\n",
    "y_inverse = class_le.inverse_transform(y_map) # undo transform - back to string\n",
    "print(y_inverse)\n",
    "'''"
   ]
  },
  {
   "cell_type": "markdown",
   "metadata": {},
   "source": [
    "### Assign FEATURES and LABELS\n",
    "#### _Note_ : Rows where CITY feature/value is missing are filtered out"
   ]
  },
  {
   "cell_type": "code",
   "execution_count": 6,
   "metadata": {},
   "outputs": [
    {
     "name": "stdout",
     "output_type": "stream",
     "text": [
      "0 rows were filtered out!\n",
      "We still have 161431 left :)\n"
     ]
    }
   ],
   "source": [
    "filter_sheriff_df = sheriff_df[pd.notnull(sheriff_df['CITY']) ] # filter out rows where CITY value is missing\n",
    "\n",
    "X_sheriff_df = filter_sheriff_df[feat_cols] # FEATURES column\n",
    "y_sheriff_df = filter_sheriff_df[label_col] # LABELS\n",
    "\n",
    "print(sheriff_df.shape[0] - X_sheriff_df.shape[0], \"rows were filtered out!\")\n",
    "print(\"We still have\", X_sheriff_df.shape[0], \"left :)\")"
   ]
  },
  {
   "cell_type": "markdown",
   "metadata": {},
   "source": [
    "### Print out FEATURE columns"
   ]
  },
  {
   "cell_type": "code",
   "execution_count": 7,
   "metadata": {},
   "outputs": [
    {
     "data": {
      "text/html": [
       "<div>\n",
       "<style>\n",
       "    .dataframe thead tr:only-child th {\n",
       "        text-align: right;\n",
       "    }\n",
       "\n",
       "    .dataframe thead th {\n",
       "        text-align: left;\n",
       "    }\n",
       "\n",
       "    .dataframe tbody tr th {\n",
       "        vertical-align: top;\n",
       "    }\n",
       "</style>\n",
       "<table border=\"1\" class=\"dataframe\">\n",
       "  <thead>\n",
       "    <tr style=\"text-align: right;\">\n",
       "      <th></th>\n",
       "      <th>CRIME_DATE</th>\n",
       "      <th>CRIME_YEAR</th>\n",
       "      <th>CITY</th>\n",
       "      <th>LATITUDE</th>\n",
       "      <th>LONGITUDE</th>\n",
       "      <th>REPORTING_DISTRICT</th>\n",
       "      <th>CRIME_IDENTIFIER</th>\n",
       "      <th>LOCATION</th>\n",
       "    </tr>\n",
       "  </thead>\n",
       "  <tbody>\n",
       "    <tr>\n",
       "      <th>0</th>\n",
       "      <td>01/08/2017 11:01:30 AM</td>\n",
       "      <td>2017</td>\n",
       "      <td>LANCASTER</td>\n",
       "      <td>34.686938</td>\n",
       "      <td>-118.123960</td>\n",
       "      <td>1133</td>\n",
       "      <td>18052353</td>\n",
       "      <td>44240 4TH ST E\\nLANCASTER, CA\\n(34.68693834371...</td>\n",
       "    </tr>\n",
       "    <tr>\n",
       "      <th>1</th>\n",
       "      <td>10/09/2016 01:10:00 PM</td>\n",
       "      <td>2016</td>\n",
       "      <td>COMPTON</td>\n",
       "      <td>33.905762</td>\n",
       "      <td>-118.235033</td>\n",
       "      <td>3803</td>\n",
       "      <td>17945511</td>\n",
       "      <td>610 W PEACH ST\\nCOMPTON, CA 90222\\n(33.9057622...</td>\n",
       "    </tr>\n",
       "    <tr>\n",
       "      <th>2</th>\n",
       "      <td>07/30/2017 12:07:00 PM</td>\n",
       "      <td>2017</td>\n",
       "      <td>ROWLAND HEIGHTS</td>\n",
       "      <td>33.992394</td>\n",
       "      <td>-117.900487</td>\n",
       "      <td>2931</td>\n",
       "      <td>18284061</td>\n",
       "      <td>1400 JELLICK AVE\\nROWLAND HEIGHTS, CA 91748\\n(...</td>\n",
       "    </tr>\n",
       "    <tr>\n",
       "      <th>4</th>\n",
       "      <td>08/06/2017 05:08:00 AM</td>\n",
       "      <td>2017</td>\n",
       "      <td>PALMDALE</td>\n",
       "      <td>34.575819</td>\n",
       "      <td>-118.086240</td>\n",
       "      <td>2608</td>\n",
       "      <td>18290960</td>\n",
       "      <td>38120 25TH ST E\\nPALMDALE, CA\\n(34.57581869898...</td>\n",
       "    </tr>\n",
       "    <tr>\n",
       "      <th>8</th>\n",
       "      <td>07/21/2017 10:07:00 AM</td>\n",
       "      <td>2017</td>\n",
       "      <td>NORWALK</td>\n",
       "      <td>33.891167</td>\n",
       "      <td>-118.103922</td>\n",
       "      <td>455</td>\n",
       "      <td>18275055</td>\n",
       "      <td>DUMONT AVE AND BARNWALL ST\\nNORWALK, CA 90650\\...</td>\n",
       "    </tr>\n",
       "  </tbody>\n",
       "</table>\n",
       "</div>"
      ],
      "text/plain": [
       "               CRIME_DATE  CRIME_YEAR             CITY   LATITUDE   LONGITUDE  \\\n",
       "0  01/08/2017 11:01:30 AM        2017        LANCASTER  34.686938 -118.123960   \n",
       "1  10/09/2016 01:10:00 PM        2016          COMPTON  33.905762 -118.235033   \n",
       "2  07/30/2017 12:07:00 PM        2017  ROWLAND HEIGHTS  33.992394 -117.900487   \n",
       "4  08/06/2017 05:08:00 AM        2017         PALMDALE  34.575819 -118.086240   \n",
       "8  07/21/2017 10:07:00 AM        2017          NORWALK  33.891167 -118.103922   \n",
       "\n",
       "   REPORTING_DISTRICT  CRIME_IDENTIFIER  \\\n",
       "0                1133          18052353   \n",
       "1                3803          17945511   \n",
       "2                2931          18284061   \n",
       "4                2608          18290960   \n",
       "8                 455          18275055   \n",
       "\n",
       "                                            LOCATION  \n",
       "0  44240 4TH ST E\\nLANCASTER, CA\\n(34.68693834371...  \n",
       "1  610 W PEACH ST\\nCOMPTON, CA 90222\\n(33.9057622...  \n",
       "2  1400 JELLICK AVE\\nROWLAND HEIGHTS, CA 91748\\n(...  \n",
       "4  38120 25TH ST E\\nPALMDALE, CA\\n(34.57581869898...  \n",
       "8  DUMONT AVE AND BARNWALL ST\\nNORWALK, CA 90650\\...  "
      ]
     },
     "execution_count": 7,
     "metadata": {},
     "output_type": "execute_result"
    }
   ],
   "source": [
    "X_sheriff_df.head()"
   ]
  },
  {
   "cell_type": "markdown",
   "metadata": {},
   "source": [
    "### Print out LABEL column"
   ]
  },
  {
   "cell_type": "code",
   "execution_count": 8,
   "metadata": {},
   "outputs": [
    {
     "data": {
      "text/html": [
       "<div>\n",
       "<style>\n",
       "    .dataframe thead tr:only-child th {\n",
       "        text-align: right;\n",
       "    }\n",
       "\n",
       "    .dataframe thead th {\n",
       "        text-align: left;\n",
       "    }\n",
       "\n",
       "    .dataframe tbody tr th {\n",
       "        vertical-align: top;\n",
       "    }\n",
       "</style>\n",
       "<table border=\"1\" class=\"dataframe\">\n",
       "  <thead>\n",
       "    <tr style=\"text-align: right;\">\n",
       "      <th></th>\n",
       "      <th>CRIME_CATEGORY_NUMBER</th>\n",
       "    </tr>\n",
       "  </thead>\n",
       "  <tbody>\n",
       "    <tr>\n",
       "      <th>0</th>\n",
       "      <td>6</td>\n",
       "    </tr>\n",
       "    <tr>\n",
       "      <th>1</th>\n",
       "      <td>23</td>\n",
       "    </tr>\n",
       "    <tr>\n",
       "      <th>2</th>\n",
       "      <td>6</td>\n",
       "    </tr>\n",
       "    <tr>\n",
       "      <th>4</th>\n",
       "      <td>5</td>\n",
       "    </tr>\n",
       "    <tr>\n",
       "      <th>8</th>\n",
       "      <td>16</td>\n",
       "    </tr>\n",
       "  </tbody>\n",
       "</table>\n",
       "</div>"
      ],
      "text/plain": [
       "   CRIME_CATEGORY_NUMBER\n",
       "0                      6\n",
       "1                     23\n",
       "2                      6\n",
       "4                      5\n",
       "8                     16"
      ]
     },
     "execution_count": 8,
     "metadata": {},
     "output_type": "execute_result"
    }
   ],
   "source": [
    "y_sheriff_df.head()"
   ]
  },
  {
   "cell_type": "markdown",
   "metadata": {},
   "source": [
    "### Print size/shape of FEATURE and LABEL columns"
   ]
  },
  {
   "cell_type": "code",
   "execution_count": 9,
   "metadata": {},
   "outputs": [
    {
     "name": "stdout",
     "output_type": "stream",
     "text": [
      "(161431, 8)\n",
      "(161431, 1)\n"
     ]
    }
   ],
   "source": [
    "print(X_sheriff_df.shape)\n",
    "print(y_sheriff_df.shape)"
   ]
  },
  {
   "cell_type": "markdown",
   "metadata": {},
   "source": [
    "## Preprocessing"
   ]
  },
  {
   "cell_type": "markdown",
   "metadata": {},
   "source": [
    "### Show the column features"
   ]
  },
  {
   "cell_type": "code",
   "execution_count": 10,
   "metadata": {},
   "outputs": [],
   "source": [
    "X_crime_feature_cols = ['CRIME_DATE', 'CRIME_YEAR', 'CRIME_CATEGORY_NUMBER', 'CRIME_CATEGORY_DESCRIPTION']\n",
    "X_crime_location_feature_cols = ['STREET', 'CITY', 'STATE', 'ZIP', 'LATITUDE', 'LONGITUDE']\n",
    "X_station_feature_cols = ['REPORTING_DISTRICT', 'STATION_IDENTIFIER', 'STATION_NAME', 'CRIME_IDENTIFIER', 'LOCATION']\n",
    "\n",
    "crime_df = X_sheriff_df.loc[:,X_crime_feature_cols]\n",
    "#print(crime_df)\n",
    "#crime_location_df = X.loc[:,X_crime_location_feature_cols]\n",
    "#station_location_df = X.loc[:,X_station_feature_cols]\n",
    "\n",
    "#century_station_df = station_location_df[station_location_df[\"STATION_NAME\"] == \"CENTURY\"]\n",
    "#all_century_df = X[X[\"STATION_NAME\"] == \"CENTURY\"]\n",
    "#all_century_df[::1000]\n",
    "\n",
    "#date = all_century_df[\"CRIME_DATE\"]\n",
    "#print(date.values[0] )\n",
    "#print(date.values[1] )\n",
    "#print(date.head() )"
   ]
  },
  {
   "cell_type": "markdown",
   "metadata": {},
   "source": [
    "### Define month dict"
   ]
  },
  {
   "cell_type": "code",
   "execution_count": 11,
   "metadata": {
    "collapsed": true
   },
   "outputs": [],
   "source": [
    "month_dict = {\n",
    "    \"01\": \"January\",\n",
    "    \"02\": \"February\",\n",
    "    \"03\": \"March\",\n",
    "    \"04\": \"April\",\n",
    "    \"05\": \"May\",\n",
    "    \"06\": \"June\",\n",
    "    \"07\": \"July\",\n",
    "    \"08\": \"August\",\n",
    "    \"09\": \"September\",\n",
    "    \"10\": \"October\",\n",
    "    \"11\": \"November\",\n",
    "    \"12\": \"December\"\n",
    "}"
   ]
  },
  {
   "cell_type": "markdown",
   "metadata": {},
   "source": [
    "# ORIGINAL DATE CODE\n",
    "---\n",
    "Some code might not work since some vars were commented out above"
   ]
  },
  {
   "cell_type": "markdown",
   "metadata": {},
   "source": [
    "## HERE IS THE NEWLY ADDED CODE FOR SPLITTING DATE"
   ]
  },
  {
   "cell_type": "code",
   "execution_count": 26,
   "metadata": {},
   "outputs": [
    {
     "name": "stdout",
     "output_type": "stream",
     "text": [
      "0    01\n",
      "1    10\n",
      "2    07\n",
      "4    08\n",
      "8    07\n",
      "Name: MONTH, dtype: object\n",
      "0    08\n",
      "1    09\n",
      "2    30\n",
      "4    06\n",
      "8    21\n",
      "Name: DAY, dtype: object\n",
      "0    01/08/2017\n",
      "1    10/09/2016\n",
      "2    07/30/2017\n",
      "4    08/06/2017\n",
      "8    07/21/2017\n",
      "Name: DATE, dtype: object\n"
     ]
    }
   ],
   "source": [
    "#First we are just getting the date of the crime here\n",
    "sheriff_df['DATE'] = sheriff_df.CRIME_DATE.str.split('\\s+').str[0]\n",
    "sheriff_df['MONTH'] = sheriff_df['DATE'].str.split(\"/\").str[0]\n",
    "sheriff_df['DAY'] = sheriff_df['DATE'].str.split(\"/\").str[1]\n",
    "\n",
    "print(sheriff_df['MONTH'].head())\n",
    "print(sheriff_df['DAY'].head())\n",
    "print(sheriff_df['DATE'].head())\n",
    "#Now we can get the time of the crime and convert it to 24 hour time\n",
    "sheriff_df['TIME24'] = pd.to_datetime(sheriff_df['CRIME_DATE'], format='%m/%d/%Y %I:%M:%S %p').dt.time\n",
    "\n",
    "#testing new columns for DATE and TIME24\n",
    "date_split = ['DATE', 'TIME24']\n",
    "\n",
    "#DISPLAYING DATE AND TIME24\n",
    "#print (sheriff_df[date_split])"
   ]
  },
  {
   "cell_type": "markdown",
   "metadata": {},
   "source": [
    "## DISPLAYING THE NEWLY SPLIT DATE AND TIME ALONG WITH OTHER FEATURES"
   ]
  },
  {
   "cell_type": "code",
   "execution_count": 13,
   "metadata": {
    "collapsed": true
   },
   "outputs": [],
   "source": [
    "features = ['DATE', 'TIME24', 'CRIME_YEAR', 'LATITUDE', 'LONGITUDE', 'CITY']\n",
    "label = ['CRIME_CATEGORY_DESCRIPTION']\n",
    "\n",
    "x = sheriff_df[features]\n",
    "y = sheriff_df[label]\n",
    "\n",
    "#print(x)"
   ]
  },
  {
   "cell_type": "markdown",
   "metadata": {},
   "source": [
    "code to split up the date and time. also changes 12-hour time to 24 hour time"
   ]
  },
  {
   "cell_type": "code",
   "execution_count": 14,
   "metadata": {
    "collapsed": true
   },
   "outputs": [],
   "source": [
    "X_crime_feature_cols_mod = ['CRIME_DATE', 'CRIME_YEAR', 'CRIME_CATEGORY_NUMBER', 'CRIME_CATEGORY_DESCRIPTION']\n",
    "#a = pd.get_dummies(all_century_df[X_crime_feature_cols_mod])\n",
    "#a[::1000]"
   ]
  },
  {
   "cell_type": "markdown",
   "metadata": {},
   "source": [
    "# END OF ORIGINAL DATE CODE\n",
    "---"
   ]
  },
  {
   "cell_type": "markdown",
   "metadata": {},
   "source": [
    "### wat"
   ]
  },
  {
   "cell_type": "code",
   "execution_count": 15,
   "metadata": {
    "collapsed": true
   },
   "outputs": [],
   "source": [
    "from sklearn.preprocessing import OneHotEncoder\n",
    "ohe = OneHotEncoder(categorical_features=[2])\n",
    "# http://scikit-learn.org/stable/modules/generated/sklearn.preprocessing.OneHotEncoder.html#sklearn.preprocessing.OneHotEncoder\n",
    "#n = ohe.fit_transform(all_century_df)\n",
    "\n",
    "upper_feat = ['CRIME_DATE', 'CRIME_YEAR', 'CRIME_CATEGORY_NUMBER',\n",
    "       'CRIME_CATEGORY_DESCRIPTION', 'STATISTICAL_CODE',\n",
    "       'STATISTICAL_CODE_DESCRIPTION', 'VICTIM_COUNT', 'STREET', 'CITY',\n",
    "       'STATE', 'ZIP', 'LATITUDE', 'LONGITUDE', 'GANG_RELATED',\n",
    "       'REPORTING_DISTRICT', 'STATION_IDENTIFIER', 'STATION_NAME',\n",
    "       'CRIME_IDENTIFIER', 'LOCATION']\n"
   ]
  },
  {
   "cell_type": "markdown",
   "metadata": {
    "collapsed": true
   },
   "source": []
  },
  {
   "cell_type": "code",
   "execution_count": null,
   "metadata": {
    "collapsed": true
   },
   "outputs": [],
   "source": []
  }
 ],
 "metadata": {
  "anaconda-cloud": {},
  "kernelspec": {
   "display_name": "Python 3",
   "language": "python",
   "name": "python3"
  },
  "language_info": {
   "codemirror_mode": {
    "name": "ipython",
    "version": 3
   },
   "file_extension": ".py",
   "mimetype": "text/x-python",
   "name": "python",
   "nbconvert_exporter": "python",
   "pygments_lexer": "ipython3",
   "version": "3.5.2"
  }
 },
 "nbformat": 4,
 "nbformat_minor": 2
}
