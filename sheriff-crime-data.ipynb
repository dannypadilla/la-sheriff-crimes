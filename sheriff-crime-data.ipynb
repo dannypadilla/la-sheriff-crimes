{
 "cells": [
  {
   "cell_type": "markdown",
   "metadata": {},
   "source": [
    "# Sheriff Crime Data"
   ]
  },
  {
   "cell_type": "markdown",
   "metadata": {},
   "source": [
    "1. Import DATA\n",
    "  * Show the data\n",
    "  * Check size/shape\n",
    "2. this\n",
    "  * dis\n",
    "3. Preprocessing\n",
    "  * Date conversion\n",
    "    * One-Hot-Encode MONTHS\n",
    "      * Create a mapping function or dictionary (use LabelEncoder(); ez)\n",
    "      * then o.h.e.\n",
    "    * One-Hot-Encode DAY?\n",
    "      * create a range so it's not so much?\n",
    "        * example (1 - 10, 11 - 20, 21 - 31); 3 categories\n",
    "      * then o.h.e\n",
    "    * One-Hot_Encode TIME?\n",
    "      * same as DAY.. create categories/range\n",
    "        * (morning, 0:00 - 11:59a), (afternoon, 12 - 5:59p), (evening, 6 - 11:59p)\n",
    "        * or more specific?\n",
    "      * then o.h.e\n",
    "    * YEAR.... ez"
   ]
  },
  {
   "cell_type": "markdown",
   "metadata": {},
   "source": [
    "## Import the data"
   ]
  },
  {
   "cell_type": "code",
   "execution_count": 170,
   "metadata": {
    "collapsed": true
   },
   "outputs": [],
   "source": [
    "import pandas as pd\n",
    "import numpy as np\n",
    "\n",
    "from sklearn.preprocessing import LabelEncoder\n",
    "\n",
    "sheriff_df = pd.read_csv(\"LA_SHERIFF__CRIMES_-_LAST_12_MONTHS.csv\")"
   ]
  },
  {
   "cell_type": "markdown",
   "metadata": {},
   "source": [
    "### Print it out"
   ]
  },
  {
   "cell_type": "code",
   "execution_count": 171,
   "metadata": {},
   "outputs": [
    {
     "data": {
      "text/html": [
       "<div>\n",
       "<style>\n",
       "    .dataframe thead tr:only-child th {\n",
       "        text-align: right;\n",
       "    }\n",
       "\n",
       "    .dataframe thead th {\n",
       "        text-align: left;\n",
       "    }\n",
       "\n",
       "    .dataframe tbody tr th {\n",
       "        vertical-align: top;\n",
       "    }\n",
       "</style>\n",
       "<table border=\"1\" class=\"dataframe\">\n",
       "  <thead>\n",
       "    <tr style=\"text-align: right;\">\n",
       "      <th></th>\n",
       "      <th>CRIME_DATE</th>\n",
       "      <th>CRIME_YEAR</th>\n",
       "      <th>CRIME_CATEGORY_NUMBER</th>\n",
       "      <th>CRIME_CATEGORY_DESCRIPTION</th>\n",
       "      <th>STATISTICAL_CODE</th>\n",
       "      <th>STATISTICAL_CODE_DESCRIPTION</th>\n",
       "      <th>VICTIM_COUNT</th>\n",
       "      <th>STREET</th>\n",
       "      <th>CITY</th>\n",
       "      <th>STATE</th>\n",
       "      <th>ZIP</th>\n",
       "      <th>LATITUDE</th>\n",
       "      <th>LONGITUDE</th>\n",
       "      <th>GANG_RELATED</th>\n",
       "      <th>REPORTING_DISTRICT</th>\n",
       "      <th>STATION_IDENTIFIER</th>\n",
       "      <th>STATION_NAME</th>\n",
       "      <th>CRIME_IDENTIFIER</th>\n",
       "      <th>LOCATION</th>\n",
       "    </tr>\n",
       "  </thead>\n",
       "  <tbody>\n",
       "    <tr>\n",
       "      <th>0</th>\n",
       "      <td>01/08/2017 11:01:30 AM</td>\n",
       "      <td>2017</td>\n",
       "      <td>6</td>\n",
       "      <td>LARCENY THEFT</td>\n",
       "      <td>389</td>\n",
       "      <td>THEFT, PETTY: Other (From Prvt Res, Boat, Plan...</td>\n",
       "      <td>1</td>\n",
       "      <td>44240 4TH ST E</td>\n",
       "      <td>LANCASTER</td>\n",
       "      <td>CA</td>\n",
       "      <td>NaN</td>\n",
       "      <td>34.686938</td>\n",
       "      <td>-118.123960</td>\n",
       "      <td>N</td>\n",
       "      <td>1133</td>\n",
       "      <td>CA0190024</td>\n",
       "      <td>LANCASTER</td>\n",
       "      <td>18052353</td>\n",
       "      <td>44240 4TH ST E\\nLANCASTER, CA\\n(34.68693834371...</td>\n",
       "    </tr>\n",
       "    <tr>\n",
       "      <th>20000</th>\n",
       "      <td>12/07/2016 04:12:00 AM</td>\n",
       "      <td>2016</td>\n",
       "      <td>24</td>\n",
       "      <td>VANDALISM</td>\n",
       "      <td>263</td>\n",
       "      <td>VANDALISM FELONY</td>\n",
       "      <td>1</td>\n",
       "      <td>610 W CORREGIDOR ST</td>\n",
       "      <td>COMPTON</td>\n",
       "      <td>CA</td>\n",
       "      <td>90220.0</td>\n",
       "      <td>33.889429</td>\n",
       "      <td>-118.232992</td>\n",
       "      <td>N</td>\n",
       "      <td>2835</td>\n",
       "      <td>CA0190042</td>\n",
       "      <td>COMPTON</td>\n",
       "      <td>17987318</td>\n",
       "      <td>610 W CORREGIDOR ST\\nCOMPTON, CA 90220\\n(33.88...</td>\n",
       "    </tr>\n",
       "    <tr>\n",
       "      <th>40000</th>\n",
       "      <td>05/24/2017 02:05:00 PM</td>\n",
       "      <td>2017</td>\n",
       "      <td>7</td>\n",
       "      <td>GRAND THEFT AUTO</td>\n",
       "      <td>91</td>\n",
       "      <td>GRAND THEFT VEHICLE (GTA): Automobile/Passenge...</td>\n",
       "      <td>1</td>\n",
       "      <td>9300 SIERRA VISTA DR</td>\n",
       "      <td>PICO RIVERA</td>\n",
       "      <td>CA</td>\n",
       "      <td>NaN</td>\n",
       "      <td>33.967714</td>\n",
       "      <td>-118.098478</td>\n",
       "      <td>N</td>\n",
       "      <td>1518</td>\n",
       "      <td>CA0190015</td>\n",
       "      <td>PICO RIVERA</td>\n",
       "      <td>18216008</td>\n",
       "      <td>9300 SIERRA VISTA DR\\nPICO RIVERA, CA\\n(33.967...</td>\n",
       "    </tr>\n",
       "    <tr>\n",
       "      <th>60000</th>\n",
       "      <td>03/25/2017 08:03:00 AM</td>\n",
       "      <td>2017</td>\n",
       "      <td>7</td>\n",
       "      <td>GRAND THEFT AUTO</td>\n",
       "      <td>91</td>\n",
       "      <td>GRAND THEFT VEHICLE (GTA): Automobile/Passenge...</td>\n",
       "      <td>1</td>\n",
       "      <td>9930 CEDAR ST</td>\n",
       "      <td>BELLFLOWER</td>\n",
       "      <td>CA</td>\n",
       "      <td>90706.0</td>\n",
       "      <td>33.871000</td>\n",
       "      <td>-118.122006</td>\n",
       "      <td>N</td>\n",
       "      <td>1335</td>\n",
       "      <td>CA0190013</td>\n",
       "      <td>LAKEWOOD</td>\n",
       "      <td>18151622</td>\n",
       "      <td>9930 CEDAR ST\\nBELLFLOWER, CA 90706\\n(33.87099...</td>\n",
       "    </tr>\n",
       "    <tr>\n",
       "      <th>80000</th>\n",
       "      <td>10/19/2016 04:10:00 AM</td>\n",
       "      <td>2016</td>\n",
       "      <td>5</td>\n",
       "      <td>BURGLARY</td>\n",
       "      <td>71</td>\n",
       "      <td>BURGLARY, OTHER STRUCTURE: Night, Entry By Force</td>\n",
       "      <td>1</td>\n",
       "      <td>9010 SLAUSON AVE</td>\n",
       "      <td>PICO RIVERA</td>\n",
       "      <td>CA</td>\n",
       "      <td>90660.0</td>\n",
       "      <td>33.971104</td>\n",
       "      <td>-118.104307</td>\n",
       "      <td>N</td>\n",
       "      <td>1517</td>\n",
       "      <td>CA0190015</td>\n",
       "      <td>PICO RIVERA</td>\n",
       "      <td>17939209</td>\n",
       "      <td>9010 SLAUSON AVE\\nPICO RIVERA, CA 90660\\n(33.9...</td>\n",
       "    </tr>\n",
       "    <tr>\n",
       "      <th>100000</th>\n",
       "      <td>11/11/2016 03:11:00 PM</td>\n",
       "      <td>2016</td>\n",
       "      <td>16</td>\n",
       "      <td>NARCOTICS</td>\n",
       "      <td>183</td>\n",
       "      <td>Under The Influence Of Narcotic 11550 HS. Does...</td>\n",
       "      <td>1</td>\n",
       "      <td>5300 WHITTIER BLVD</td>\n",
       "      <td>LOS ANGELES</td>\n",
       "      <td>CA</td>\n",
       "      <td>90022.0</td>\n",
       "      <td>34.020380</td>\n",
       "      <td>-118.155995</td>\n",
       "      <td>N</td>\n",
       "      <td>286</td>\n",
       "      <td>CA0190002</td>\n",
       "      <td>EAST LOS ANGELES</td>\n",
       "      <td>17963711</td>\n",
       "      <td>5300 WHITTIER BLVD\\nLOS ANGELES, CA 90022\\n(34...</td>\n",
       "    </tr>\n",
       "    <tr>\n",
       "      <th>120000</th>\n",
       "      <td>07/17/2017 11:07:00 AM</td>\n",
       "      <td>2017</td>\n",
       "      <td>24</td>\n",
       "      <td>VANDALISM</td>\n",
       "      <td>263</td>\n",
       "      <td>VANDALISM FELONY</td>\n",
       "      <td>1</td>\n",
       "      <td>14340 PIONEER BLVD</td>\n",
       "      <td>NORWALK</td>\n",
       "      <td>CA</td>\n",
       "      <td>NaN</td>\n",
       "      <td>33.901496</td>\n",
       "      <td>-118.082564</td>\n",
       "      <td>N</td>\n",
       "      <td>455</td>\n",
       "      <td>CA0190004</td>\n",
       "      <td>NORWALK</td>\n",
       "      <td>18275408</td>\n",
       "      <td>14340 PIONEER BLVD\\nNORWALK, CA\\n(33.901495512...</td>\n",
       "    </tr>\n",
       "    <tr>\n",
       "      <th>140000</th>\n",
       "      <td>11/16/2016 12:11:00 AM</td>\n",
       "      <td>2016</td>\n",
       "      <td>10</td>\n",
       "      <td>FRAUD AND NSF CHECKS</td>\n",
       "      <td>117</td>\n",
       "      <td>IDENTITY THEFT (GOODS/SERVICES/CREDIT)</td>\n",
       "      <td>1</td>\n",
       "      <td>16800 ARROW HWY</td>\n",
       "      <td>AZUSA</td>\n",
       "      <td>CA</td>\n",
       "      <td>91702.0</td>\n",
       "      <td>34.107291</td>\n",
       "      <td>-117.918695</td>\n",
       "      <td>N</td>\n",
       "      <td>867</td>\n",
       "      <td>CA0190008</td>\n",
       "      <td>SAN DIMAS</td>\n",
       "      <td>18180858</td>\n",
       "      <td>16800 ARROW HWY\\nAZUSA, CA 91702\\n(34.10729138...</td>\n",
       "    </tr>\n",
       "    <tr>\n",
       "      <th>160000</th>\n",
       "      <td>09/15/2017 01:09:00 PM</td>\n",
       "      <td>2017</td>\n",
       "      <td>13</td>\n",
       "      <td>NON-AGGRAVATED ASSAULTS</td>\n",
       "      <td>144</td>\n",
       "      <td>ASSAULT, NON-AGG: Hands, Feet, Fist, Etc.</td>\n",
       "      <td>1</td>\n",
       "      <td>21900 S MONETA AVE</td>\n",
       "      <td>CARSON</td>\n",
       "      <td>CA</td>\n",
       "      <td>90745.0</td>\n",
       "      <td>33.829081</td>\n",
       "      <td>-118.282963</td>\n",
       "      <td>N</td>\n",
       "      <td>1617</td>\n",
       "      <td>CA0190016</td>\n",
       "      <td>CARSON</td>\n",
       "      <td>18333379</td>\n",
       "      <td>21900 S MONETA AVE\\nCARSON, CA 90745\\n(33.8290...</td>\n",
       "    </tr>\n",
       "  </tbody>\n",
       "</table>\n",
       "</div>"
      ],
      "text/plain": [
       "                    CRIME_DATE  CRIME_YEAR  CRIME_CATEGORY_NUMBER  \\\n",
       "0       01/08/2017 11:01:30 AM        2017                      6   \n",
       "20000   12/07/2016 04:12:00 AM        2016                     24   \n",
       "40000   05/24/2017 02:05:00 PM        2017                      7   \n",
       "60000   03/25/2017 08:03:00 AM        2017                      7   \n",
       "80000   10/19/2016 04:10:00 AM        2016                      5   \n",
       "100000  11/11/2016 03:11:00 PM        2016                     16   \n",
       "120000  07/17/2017 11:07:00 AM        2017                     24   \n",
       "140000  11/16/2016 12:11:00 AM        2016                     10   \n",
       "160000  09/15/2017 01:09:00 PM        2017                     13   \n",
       "\n",
       "       CRIME_CATEGORY_DESCRIPTION  STATISTICAL_CODE  \\\n",
       "0                   LARCENY THEFT               389   \n",
       "20000                   VANDALISM               263   \n",
       "40000            GRAND THEFT AUTO                91   \n",
       "60000            GRAND THEFT AUTO                91   \n",
       "80000                    BURGLARY                71   \n",
       "100000                  NARCOTICS               183   \n",
       "120000                  VANDALISM               263   \n",
       "140000       FRAUD AND NSF CHECKS               117   \n",
       "160000    NON-AGGRAVATED ASSAULTS               144   \n",
       "\n",
       "                             STATISTICAL_CODE_DESCRIPTION  VICTIM_COUNT  \\\n",
       "0       THEFT, PETTY: Other (From Prvt Res, Boat, Plan...             1   \n",
       "20000                                    VANDALISM FELONY             1   \n",
       "40000   GRAND THEFT VEHICLE (GTA): Automobile/Passenge...             1   \n",
       "60000   GRAND THEFT VEHICLE (GTA): Automobile/Passenge...             1   \n",
       "80000    BURGLARY, OTHER STRUCTURE: Night, Entry By Force             1   \n",
       "100000  Under The Influence Of Narcotic 11550 HS. Does...             1   \n",
       "120000                                   VANDALISM FELONY             1   \n",
       "140000             IDENTITY THEFT (GOODS/SERVICES/CREDIT)             1   \n",
       "160000          ASSAULT, NON-AGG: Hands, Feet, Fist, Etc.             1   \n",
       "\n",
       "                      STREET         CITY STATE      ZIP   LATITUDE  \\\n",
       "0             44240 4TH ST E    LANCASTER    CA      NaN  34.686938   \n",
       "20000    610 W CORREGIDOR ST      COMPTON    CA  90220.0  33.889429   \n",
       "40000   9300 SIERRA VISTA DR  PICO RIVERA    CA      NaN  33.967714   \n",
       "60000          9930 CEDAR ST   BELLFLOWER    CA  90706.0  33.871000   \n",
       "80000       9010 SLAUSON AVE  PICO RIVERA    CA  90660.0  33.971104   \n",
       "100000    5300 WHITTIER BLVD  LOS ANGELES    CA  90022.0  34.020380   \n",
       "120000    14340 PIONEER BLVD      NORWALK    CA      NaN  33.901496   \n",
       "140000       16800 ARROW HWY        AZUSA    CA  91702.0  34.107291   \n",
       "160000    21900 S MONETA AVE       CARSON    CA  90745.0  33.829081   \n",
       "\n",
       "         LONGITUDE GANG_RELATED  REPORTING_DISTRICT STATION_IDENTIFIER  \\\n",
       "0      -118.123960            N                1133          CA0190024   \n",
       "20000  -118.232992            N                2835          CA0190042   \n",
       "40000  -118.098478            N                1518          CA0190015   \n",
       "60000  -118.122006            N                1335          CA0190013   \n",
       "80000  -118.104307            N                1517          CA0190015   \n",
       "100000 -118.155995            N                 286          CA0190002   \n",
       "120000 -118.082564            N                 455          CA0190004   \n",
       "140000 -117.918695            N                 867          CA0190008   \n",
       "160000 -118.282963            N                1617          CA0190016   \n",
       "\n",
       "            STATION_NAME  CRIME_IDENTIFIER  \\\n",
       "0              LANCASTER          18052353   \n",
       "20000            COMPTON          17987318   \n",
       "40000        PICO RIVERA          18216008   \n",
       "60000           LAKEWOOD          18151622   \n",
       "80000        PICO RIVERA          17939209   \n",
       "100000  EAST LOS ANGELES          17963711   \n",
       "120000           NORWALK          18275408   \n",
       "140000         SAN DIMAS          18180858   \n",
       "160000            CARSON          18333379   \n",
       "\n",
       "                                                 LOCATION  \n",
       "0       44240 4TH ST E\\nLANCASTER, CA\\n(34.68693834371...  \n",
       "20000   610 W CORREGIDOR ST\\nCOMPTON, CA 90220\\n(33.88...  \n",
       "40000   9300 SIERRA VISTA DR\\nPICO RIVERA, CA\\n(33.967...  \n",
       "60000   9930 CEDAR ST\\nBELLFLOWER, CA 90706\\n(33.87099...  \n",
       "80000   9010 SLAUSON AVE\\nPICO RIVERA, CA 90660\\n(33.9...  \n",
       "100000  5300 WHITTIER BLVD\\nLOS ANGELES, CA 90022\\n(34...  \n",
       "120000  14340 PIONEER BLVD\\nNORWALK, CA\\n(33.901495512...  \n",
       "140000  16800 ARROW HWY\\nAZUSA, CA 91702\\n(34.10729138...  \n",
       "160000  21900 S MONETA AVE\\nCARSON, CA 90745\\n(33.8290...  "
      ]
     },
     "execution_count": 171,
     "metadata": {},
     "output_type": "execute_result"
    }
   ],
   "source": [
    "sheriff_df[::20000]"
   ]
  },
  {
   "cell_type": "markdown",
   "metadata": {},
   "source": [
    "### Print size/shape of Dataset"
   ]
  },
  {
   "cell_type": "code",
   "execution_count": 172,
   "metadata": {},
   "outputs": [
    {
     "name": "stdout",
     "output_type": "stream",
     "text": [
      "(170480, 19)\n"
     ]
    }
   ],
   "source": [
    "print(sheriff_df.shape)"
   ]
  },
  {
   "cell_type": "markdown",
   "metadata": {},
   "source": [
    "### Define features and label"
   ]
  },
  {
   "cell_type": "code",
   "execution_count": 173,
   "metadata": {},
   "outputs": [],
   "source": [
    "''' keeping for now... so we don't have to rewrite?? \n",
    "all_columns = ['CRIME_DATE', 'CRIME_YEAR', 'CRIME_CATEGORY_NUMBER',\n",
    "       'CRIME_CATEGORY_DESCRIPTION', 'STATISTICAL_CODE',\n",
    "       'STATISTICAL_CODE_DESCRIPTION', 'VICTIM_COUNT', 'STREET', 'CITY',\n",
    "       'STATE', 'ZIP', 'LATITUDE', 'LONGITUDE', 'GANG_RELATED',\n",
    "       'REPORTING_DISTRICT', 'STATION_IDENTIFIER', 'STATION_NAME',\n",
    "       'CRIME_IDENTIFIER', 'LOCATION']\n",
    "'''\n",
    "\n",
    "# edit features to include here\n",
    "feat_cols = ['CRIME_DATE', 'CRIME_YEAR',\n",
    "             'CITY', 'LATITUDE', 'LONGITUDE',\n",
    "             'REPORTING_DISTRICT', 'STATION_IDENTIFIER', 'STATION_NAME',\n",
    "             'CRIME_IDENTIFIER', 'LOCATION']\n",
    "\n",
    "label_col = [\"CRIME_CATEGORY_NUMBER\"]\n"
   ]
  },
  {
   "cell_type": "markdown",
   "metadata": {},
   "source": [
    "#### Mapping CRIME_CATEGORY_DESCRIPTION to CRIME_CATEGORY_NUMBER, and reverse (Might be useful later)"
   ]
  },
  {
   "cell_type": "code",
   "execution_count": 174,
   "metadata": {},
   "outputs": [
    {
     "data": {
      "text/plain": [
       "'\\nclass_mapping = {label:id_num for id_num, label in enumerate(np.unique(X_sheriff_df[\"CRIME_CATEGORY_DESCRIPTION\"]) )}\\nprint(class_mapping) # returns as dict obj - maybe below is better\\n\\n# or\\n\\nclass_le = LabelEncoder() # does above automatically; but returns as numpy array\\ny_map = class_le.fit_transform(X_sheriff_df[\"CRIME_CATEGORY_DESCRIPTION\"])\\nprint(y_map)\\ny_inverse = class_le.inverse_transform(y_map) # undo transform - back to string\\nprint(y_inverse)\\n'"
      ]
     },
     "execution_count": 174,
     "metadata": {},
     "output_type": "execute_result"
    }
   ],
   "source": [
    "'''\n",
    "class_mapping = {label:id_num for id_num, label in enumerate(np.unique(X_sheriff_df[\"CRIME_CATEGORY_DESCRIPTION\"]) )}\n",
    "print(class_mapping) # returns as dict obj - maybe below is better\n",
    "\n",
    "# or\n",
    "\n",
    "class_le = LabelEncoder() # does above automatically; but returns as numpy array\n",
    "y_map = class_le.fit_transform(X_sheriff_df[\"CRIME_CATEGORY_DESCRIPTION\"])\n",
    "print(y_map)\n",
    "y_inverse = class_le.inverse_transform(y_map) # undo transform - back to string\n",
    "print(y_inverse)\n",
    "'''"
   ]
  },
  {
   "cell_type": "markdown",
   "metadata": {},
   "source": [
    "### Assign FEATURES and LABELS\n",
    "#### _Note_ : Rows where CITY feature/value is missing are filtered out"
   ]
  },
  {
   "cell_type": "code",
   "execution_count": 175,
   "metadata": {},
   "outputs": [
    {
     "name": "stdout",
     "output_type": "stream",
     "text": [
      "3119 rows were filtered out!\n",
      "We still have 167361 left :)\n"
     ]
    }
   ],
   "source": [
    "filter_sheriff_df = sheriff_df[pd.notnull(sheriff_df['CITY']) ] # filter out rows where CITY value is missing\n",
    "\n",
    "X_sheriff_df = filter_sheriff_df[feat_cols] # FEATURES column\n",
    "y_sheriff_df = filter_sheriff_df[label_col] # LABELS\n",
    "\n",
    "print(sheriff_df.shape[0] - X_sheriff_df.shape[0], \"rows were filtered out!\")\n",
    "print(\"We still have\", X_sheriff_df.shape[0], \"left :)\")"
   ]
  },
  {
   "cell_type": "markdown",
   "metadata": {},
   "source": [
    "### Print out FEATURE columns"
   ]
  },
  {
   "cell_type": "code",
   "execution_count": 176,
   "metadata": {},
   "outputs": [
    {
     "data": {
      "text/html": [
       "<div>\n",
       "<style>\n",
       "    .dataframe thead tr:only-child th {\n",
       "        text-align: right;\n",
       "    }\n",
       "\n",
       "    .dataframe thead th {\n",
       "        text-align: left;\n",
       "    }\n",
       "\n",
       "    .dataframe tbody tr th {\n",
       "        vertical-align: top;\n",
       "    }\n",
       "</style>\n",
       "<table border=\"1\" class=\"dataframe\">\n",
       "  <thead>\n",
       "    <tr style=\"text-align: right;\">\n",
       "      <th></th>\n",
       "      <th>CRIME_DATE</th>\n",
       "      <th>CRIME_YEAR</th>\n",
       "      <th>CITY</th>\n",
       "      <th>ZIP</th>\n",
       "      <th>LATITUDE</th>\n",
       "      <th>LONGITUDE</th>\n",
       "      <th>GANG_RELATED</th>\n",
       "      <th>REPORTING_DISTRICT</th>\n",
       "      <th>STATION_IDENTIFIER</th>\n",
       "      <th>STATION_NAME</th>\n",
       "      <th>CRIME_IDENTIFIER</th>\n",
       "      <th>LOCATION</th>\n",
       "    </tr>\n",
       "  </thead>\n",
       "  <tbody>\n",
       "    <tr>\n",
       "      <th>0</th>\n",
       "      <td>01/08/2017 11:01:30 AM</td>\n",
       "      <td>2017</td>\n",
       "      <td>LANCASTER</td>\n",
       "      <td>NaN</td>\n",
       "      <td>34.686938</td>\n",
       "      <td>-118.123960</td>\n",
       "      <td>N</td>\n",
       "      <td>1133</td>\n",
       "      <td>CA0190024</td>\n",
       "      <td>LANCASTER</td>\n",
       "      <td>18052353</td>\n",
       "      <td>44240 4TH ST E\\nLANCASTER, CA\\n(34.68693834371...</td>\n",
       "    </tr>\n",
       "    <tr>\n",
       "      <th>1</th>\n",
       "      <td>10/09/2016 01:10:00 PM</td>\n",
       "      <td>2016</td>\n",
       "      <td>COMPTON</td>\n",
       "      <td>90222.0</td>\n",
       "      <td>33.905762</td>\n",
       "      <td>-118.235033</td>\n",
       "      <td>N</td>\n",
       "      <td>3803</td>\n",
       "      <td>CA01900V1</td>\n",
       "      <td>TRAP</td>\n",
       "      <td>17945511</td>\n",
       "      <td>610 W PEACH ST\\nCOMPTON, CA 90222\\n(33.9057622...</td>\n",
       "    </tr>\n",
       "    <tr>\n",
       "      <th>2</th>\n",
       "      <td>07/30/2017 12:07:00 PM</td>\n",
       "      <td>2017</td>\n",
       "      <td>ROWLAND HEIGHTS</td>\n",
       "      <td>91748.0</td>\n",
       "      <td>33.992394</td>\n",
       "      <td>-117.900487</td>\n",
       "      <td>N</td>\n",
       "      <td>2931</td>\n",
       "      <td>CA0190020</td>\n",
       "      <td>WALNUT</td>\n",
       "      <td>18284061</td>\n",
       "      <td>1400 JELLICK AVE\\nROWLAND HEIGHTS, CA 91748\\n(...</td>\n",
       "    </tr>\n",
       "    <tr>\n",
       "      <th>4</th>\n",
       "      <td>08/06/2017 05:08:00 AM</td>\n",
       "      <td>2017</td>\n",
       "      <td>PALMDALE</td>\n",
       "      <td>NaN</td>\n",
       "      <td>34.575819</td>\n",
       "      <td>-118.086240</td>\n",
       "      <td>N</td>\n",
       "      <td>2608</td>\n",
       "      <td>CA01900W9</td>\n",
       "      <td>PALMDALE</td>\n",
       "      <td>18290960</td>\n",
       "      <td>38120 25TH ST E\\nPALMDALE, CA\\n(34.57581869898...</td>\n",
       "    </tr>\n",
       "    <tr>\n",
       "      <th>6</th>\n",
       "      <td>07/12/2017 10:07:00 AM</td>\n",
       "      <td>2017</td>\n",
       "      <td>CHATSWORTH</td>\n",
       "      <td>NaN</td>\n",
       "      <td>NaN</td>\n",
       "      <td>NaN</td>\n",
       "      <td>N</td>\n",
       "      <td>2255</td>\n",
       "      <td>CA0190022</td>\n",
       "      <td>MALIBU/LOST HILLS</td>\n",
       "      <td>18265803</td>\n",
       "      <td>WOOLSEY CANYON RD AND LAKE MANOR\\nCHATSWORTH, ...</td>\n",
       "    </tr>\n",
       "  </tbody>\n",
       "</table>\n",
       "</div>"
      ],
      "text/plain": [
       "               CRIME_DATE  CRIME_YEAR             CITY      ZIP   LATITUDE  \\\n",
       "0  01/08/2017 11:01:30 AM        2017        LANCASTER      NaN  34.686938   \n",
       "1  10/09/2016 01:10:00 PM        2016          COMPTON  90222.0  33.905762   \n",
       "2  07/30/2017 12:07:00 PM        2017  ROWLAND HEIGHTS  91748.0  33.992394   \n",
       "4  08/06/2017 05:08:00 AM        2017         PALMDALE      NaN  34.575819   \n",
       "6  07/12/2017 10:07:00 AM        2017       CHATSWORTH      NaN        NaN   \n",
       "\n",
       "    LONGITUDE GANG_RELATED  REPORTING_DISTRICT STATION_IDENTIFIER  \\\n",
       "0 -118.123960            N                1133          CA0190024   \n",
       "1 -118.235033            N                3803          CA01900V1   \n",
       "2 -117.900487            N                2931          CA0190020   \n",
       "4 -118.086240            N                2608          CA01900W9   \n",
       "6         NaN            N                2255          CA0190022   \n",
       "\n",
       "        STATION_NAME  CRIME_IDENTIFIER  \\\n",
       "0          LANCASTER          18052353   \n",
       "1               TRAP          17945511   \n",
       "2             WALNUT          18284061   \n",
       "4           PALMDALE          18290960   \n",
       "6  MALIBU/LOST HILLS          18265803   \n",
       "\n",
       "                                            LOCATION  \n",
       "0  44240 4TH ST E\\nLANCASTER, CA\\n(34.68693834371...  \n",
       "1  610 W PEACH ST\\nCOMPTON, CA 90222\\n(33.9057622...  \n",
       "2  1400 JELLICK AVE\\nROWLAND HEIGHTS, CA 91748\\n(...  \n",
       "4  38120 25TH ST E\\nPALMDALE, CA\\n(34.57581869898...  \n",
       "6  WOOLSEY CANYON RD AND LAKE MANOR\\nCHATSWORTH, ...  "
      ]
     },
     "execution_count": 176,
     "metadata": {},
     "output_type": "execute_result"
    }
   ],
   "source": [
    "X_sheriff_df.head()"
   ]
  },
  {
   "cell_type": "markdown",
   "metadata": {},
   "source": [
    "### Print out LABEL column"
   ]
  },
  {
   "cell_type": "code",
   "execution_count": 177,
   "metadata": {},
   "outputs": [
    {
     "data": {
      "text/html": [
       "<div>\n",
       "<style>\n",
       "    .dataframe thead tr:only-child th {\n",
       "        text-align: right;\n",
       "    }\n",
       "\n",
       "    .dataframe thead th {\n",
       "        text-align: left;\n",
       "    }\n",
       "\n",
       "    .dataframe tbody tr th {\n",
       "        vertical-align: top;\n",
       "    }\n",
       "</style>\n",
       "<table border=\"1\" class=\"dataframe\">\n",
       "  <thead>\n",
       "    <tr style=\"text-align: right;\">\n",
       "      <th></th>\n",
       "      <th>CRIME_CATEGORY_NUMBER</th>\n",
       "    </tr>\n",
       "  </thead>\n",
       "  <tbody>\n",
       "    <tr>\n",
       "      <th>0</th>\n",
       "      <td>6</td>\n",
       "    </tr>\n",
       "    <tr>\n",
       "      <th>1</th>\n",
       "      <td>23</td>\n",
       "    </tr>\n",
       "    <tr>\n",
       "      <th>2</th>\n",
       "      <td>6</td>\n",
       "    </tr>\n",
       "    <tr>\n",
       "      <th>4</th>\n",
       "      <td>5</td>\n",
       "    </tr>\n",
       "    <tr>\n",
       "      <th>6</th>\n",
       "      <td>23</td>\n",
       "    </tr>\n",
       "  </tbody>\n",
       "</table>\n",
       "</div>"
      ],
      "text/plain": [
       "   CRIME_CATEGORY_NUMBER\n",
       "0                      6\n",
       "1                     23\n",
       "2                      6\n",
       "4                      5\n",
       "6                     23"
      ]
     },
     "execution_count": 177,
     "metadata": {},
     "output_type": "execute_result"
    }
   ],
   "source": [
    "y_sheriff_df.head()"
   ]
  },
  {
   "cell_type": "markdown",
   "metadata": {},
   "source": [
    "### Print size/shape of FEATURE and LABEL columns"
   ]
  },
  {
   "cell_type": "code",
   "execution_count": 178,
   "metadata": {},
   "outputs": [
    {
     "name": "stdout",
     "output_type": "stream",
     "text": [
      "(167361, 12)\n",
      "(167361, 1)\n"
     ]
    }
   ],
   "source": [
    "print(X_sheriff_df.shape)\n",
    "print(y_sheriff_df.shape)"
   ]
  },
  {
   "cell_type": "markdown",
   "metadata": {},
   "source": [
    "## Preprocessing"
   ]
  },
  {
   "cell_type": "markdown",
   "metadata": {},
   "source": [
    "### Show the column features"
   ]
  },
  {
   "cell_type": "code",
   "execution_count": 185,
   "metadata": {},
   "outputs": [],
   "source": [
    "X_crime_feature_cols = ['CRIME_DATE', 'CRIME_YEAR', 'CRIME_CATEGORY_NUMBER', 'CRIME_CATEGORY_DESCRIPTION']\n",
    "X_crime_location_feature_cols = ['STREET', 'CITY', 'STATE', 'ZIP', 'LATITUDE', 'LONGITUDE']\n",
    "X_station_feature_cols = ['REPORTING_DISTRICT', 'STATION_IDENTIFIER', 'STATION_NAME', 'CRIME_IDENTIFIER', 'LOCATION']\n",
    "\n",
    "crime_df = X_sheriff_df.loc[:,X_crime_feature_cols]\n",
    "#print(crime_df)\n",
    "crime_location_df = X.loc[:,X_crime_location_feature_cols]\n",
    "station_location_df = X.loc[:,X_station_feature_cols]\n",
    "\n",
    "#century_station_df = station_location_df[station_location_df[\"STATION_NAME\"] == \"CENTURY\"]\n",
    "#all_century_df = X[X[\"STATION_NAME\"] == \"CENTURY\"]\n",
    "#all_century_df[::1000]\n",
    "\n",
    "date = all_century_df[\"CRIME_DATE\"]\n",
    "#print(date.values[0] )\n",
    "print(date.values[1] )\n",
    "#print(date.head() )"
   ]
  },
  {
   "cell_type": "markdown",
   "metadata": {},
   "source": [
    "### Define month dict"
   ]
  },
  {
   "cell_type": "code",
   "execution_count": 183,
   "metadata": {
    "collapsed": true
   },
   "outputs": [],
   "source": [
    "month_dict = {\n",
    "    \"01\": \"January\",\n",
    "    \"02\": \"February\",\n",
    "    \"03\": \"March\",\n",
    "    \"04\": \"April\",\n",
    "    \"05\": \"May\",\n",
    "    \"06\": \"June\",\n",
    "    \"07\": \"July\",\n",
    "    \"08\": \"August\",\n",
    "    \"09\": \"September\",\n",
    "    \"10\": \"October\",\n",
    "    \"11\": \"November\",\n",
    "    \"12\": \"December\"\n",
    "}"
   ]
  },
  {
   "cell_type": "markdown",
   "metadata": {},
   "source": [
    "# ORIGINAL DATE CODE\n",
    "---\n",
    "Some code might not work since some vars were commented out above"
   ]
  },
  {
   "cell_type": "markdown",
   "metadata": {},
   "source": [
    "## HERE IS THE NEWLY ADDED CODE FOR SPLITTING DATE"
   ]
  },
  {
   "cell_type": "code",
   "execution_count": 187,
   "metadata": {},
   "outputs": [],
   "source": [
    "#First we are just getting the date of the crime here\n",
    "sheriff_df['DATE'] = sheriff_df.CRIME_DATE.str.split('\\s+').str[0]\n",
    "\n",
    "#Now we can get the time of the crime and convert it to 24 hour time\n",
    "sheriff_df['TIME24'] = pd.to_datetime(sheriff_df['CRIME_DATE'], format='%m/%d/%Y %I:%M:%S %p').dt.time\n",
    "\n",
    "#testing new columns for DATE and TIME24\n",
    "date_split = ['DATE', 'TIME24']\n",
    "\n",
    "#DISPLAYING DATE AND TIME24\n",
    "#print (sheriff_df[date_split])"
   ]
  },
  {
   "cell_type": "markdown",
   "metadata": {},
   "source": [
    "## DISPLAYING THE NEWLY SPLIT DATE AND TIME ALONG WITH OTHER FEATURES"
   ]
  },
  {
   "cell_type": "code",
   "execution_count": 189,
   "metadata": {},
   "outputs": [],
   "source": [
    "features = ['DATE', 'TIME24', 'CRIME_YEAR', 'LATITUDE', 'LONGITUDE', 'CITY']\n",
    "label = ['CRIME_CATEGORY_DESCRIPTION']\n",
    "\n",
    "x = sheriff_df[features]\n",
    "y = sheriff_df[label]\n",
    "\n",
    "#print(x)"
   ]
  },
  {
   "cell_type": "markdown",
   "metadata": {},
   "source": [
    "code to split up the date and time. also changes 12-hour time to 24 hour time"
   ]
  },
  {
   "cell_type": "code",
   "execution_count": 192,
   "metadata": {},
   "outputs": [],
   "source": [
    "X_crime_feature_cols_mod = ['CRIME_DATE', 'CRIME_YEAR', 'CRIME_CATEGORY_NUMBER', 'CRIME_CATEGORY_DESCRIPTION']\n",
    "#a = pd.get_dummies(all_century_df[X_crime_feature_cols_mod])\n",
    "#a[::1000]"
   ]
  },
  {
   "cell_type": "markdown",
   "metadata": {},
   "source": [
    "# END OF ORIGINAL DATE CODE\n",
    "---"
   ]
  },
  {
   "cell_type": "markdown",
   "metadata": {},
   "source": [
    "### wat"
   ]
  },
  {
   "cell_type": "code",
   "execution_count": null,
   "metadata": {
    "collapsed": true
   },
   "outputs": [],
   "source": [
    "from sklearn.preprocessing import OneHotEncoder\n",
    "ohe = OneHotEncoder(categorical_features=[2])\n",
    "# http://scikit-learn.org/stable/modules/generated/sklearn.preprocessing.OneHotEncoder.html#sklearn.preprocessing.OneHotEncoder\n",
    "#n = ohe.fit_transform(all_century_df)\n",
    "\n",
    "upper_feat = ['CRIME_DATE', 'CRIME_YEAR', 'CRIME_CATEGORY_NUMBER',\n",
    "       'CRIME_CATEGORY_DESCRIPTION', 'STATISTICAL_CODE',\n",
    "       'STATISTICAL_CODE_DESCRIPTION', 'VICTIM_COUNT', 'STREET', 'CITY',\n",
    "       'STATE', 'ZIP', 'LATITUDE', 'LONGITUDE', 'GANG_RELATED',\n",
    "       'REPORTING_DISTRICT', 'STATION_IDENTIFIER', 'STATION_NAME',\n",
    "       'CRIME_IDENTIFIER', 'LOCATION']\n"
   ]
  },
  {
   "cell_type": "markdown",
   "metadata": {
    "collapsed": true
   },
   "source": []
  },
  {
   "cell_type": "code",
   "execution_count": null,
   "metadata": {
    "collapsed": true
   },
   "outputs": [],
   "source": []
  }
 ],
 "metadata": {
  "anaconda-cloud": {},
  "kernelspec": {
   "display_name": "Python 3",
   "language": "python",
   "name": "python3"
  },
  "language_info": {
   "codemirror_mode": {
    "name": "ipython",
    "version": 3
   },
   "file_extension": ".py",
   "mimetype": "text/x-python",
   "name": "python",
   "nbconvert_exporter": "python",
   "pygments_lexer": "ipython3",
   "version": "3.6.2"
  }
 },
 "nbformat": 4,
 "nbformat_minor": 2
}
