{
 "cells": [
  {
   "cell_type": "markdown",
   "metadata": {},
   "source": [
    "# Sheriff Crime Data"
   ]
  },
  {
   "cell_type": "markdown",
   "metadata": {},
   "source": [
    "1. Import DATA\n",
    "  * Show the data\n",
    "  * Check size/shape\n",
    "2. this\n",
    "  * dis\n",
    "3. Preprocessing\n",
    "  * Date conversion\n",
    "    * One-Hot-Encode MONTHS\n",
    "      * Create a mapping function or dictionary (use LabelEncoder(); ez)\n",
    "      * then o.h.e.\n",
    "    * One-Hot-Encode DAY?\n",
    "      * create a range so it's not so much?\n",
    "        * example (1 - 10, 11 - 20, 21 - 31); 3 categories\n",
    "      * then o.h.e\n",
    "    * One-Hot_Encode TIME?\n",
    "      * same as DAY.. create categories/range\n",
    "        * (morning, 0:00 - 11:59a), (afternoon, 12 - 5:59p), (evening, 6 - 11:59p)\n",
    "        * or more specific?\n",
    "      * then o.h.e\n",
    "    * YEAR.... ez"
   ]
  },
  {
   "cell_type": "markdown",
   "metadata": {},
   "source": [
    "## Import the data"
   ]
  },
  {
   "cell_type": "code",
   "execution_count": 1,
   "metadata": {
    "collapsed": true
   },
   "outputs": [],
   "source": [
    "import pandas as pd\n",
    "import numpy as np\n",
    "import matplotlib.pyplot as plt\n",
    "\n",
    "from sklearn.preprocessing import LabelEncoder\n",
    "from sklearn import metrics\n",
    "\n",
    "sheriff_df = pd.read_csv(\"LA_SHERIFF__CRIMES_-_LAST_12_MONTHS.csv\")"
   ]
  },
  {
   "cell_type": "markdown",
   "metadata": {},
   "source": [
    "### Print it out"
   ]
  },
  {
   "cell_type": "code",
   "execution_count": 2,
   "metadata": {},
   "outputs": [
    {
     "data": {
      "text/html": [
       "<div>\n",
       "<style>\n",
       "    .dataframe thead tr:only-child th {\n",
       "        text-align: right;\n",
       "    }\n",
       "\n",
       "    .dataframe thead th {\n",
       "        text-align: left;\n",
       "    }\n",
       "\n",
       "    .dataframe tbody tr th {\n",
       "        vertical-align: top;\n",
       "    }\n",
       "</style>\n",
       "<table border=\"1\" class=\"dataframe\">\n",
       "  <thead>\n",
       "    <tr style=\"text-align: right;\">\n",
       "      <th></th>\n",
       "      <th>CRIME_DATE</th>\n",
       "      <th>CRIME_YEAR</th>\n",
       "      <th>CRIME_CATEGORY_NUMBER</th>\n",
       "      <th>CRIME_CATEGORY_DESCRIPTION</th>\n",
       "      <th>STATISTICAL_CODE</th>\n",
       "      <th>STATISTICAL_CODE_DESCRIPTION</th>\n",
       "      <th>VICTIM_COUNT</th>\n",
       "      <th>STREET</th>\n",
       "      <th>CITY</th>\n",
       "      <th>STATE</th>\n",
       "      <th>ZIP</th>\n",
       "      <th>LATITUDE</th>\n",
       "      <th>LONGITUDE</th>\n",
       "      <th>GANG_RELATED</th>\n",
       "      <th>REPORTING_DISTRICT</th>\n",
       "      <th>STATION_IDENTIFIER</th>\n",
       "      <th>STATION_NAME</th>\n",
       "      <th>CRIME_IDENTIFIER</th>\n",
       "      <th>LOCATION</th>\n",
       "    </tr>\n",
       "  </thead>\n",
       "  <tbody>\n",
       "    <tr>\n",
       "      <th>0</th>\n",
       "      <td>01/08/2017 11:01:30 AM</td>\n",
       "      <td>2017</td>\n",
       "      <td>6</td>\n",
       "      <td>LARCENY THEFT</td>\n",
       "      <td>389</td>\n",
       "      <td>THEFT, PETTY: Other (From Prvt Res, Boat, Plan...</td>\n",
       "      <td>1</td>\n",
       "      <td>44240 4TH ST E</td>\n",
       "      <td>LANCASTER</td>\n",
       "      <td>CA</td>\n",
       "      <td>NaN</td>\n",
       "      <td>34.686938</td>\n",
       "      <td>-118.123960</td>\n",
       "      <td>N</td>\n",
       "      <td>1133</td>\n",
       "      <td>CA0190024</td>\n",
       "      <td>LANCASTER</td>\n",
       "      <td>18052353</td>\n",
       "      <td>44240 4TH ST E\\nLANCASTER, CA\\n(34.68693834371...</td>\n",
       "    </tr>\n",
       "    <tr>\n",
       "      <th>20000</th>\n",
       "      <td>12/07/2016 04:12:00 AM</td>\n",
       "      <td>2016</td>\n",
       "      <td>24</td>\n",
       "      <td>VANDALISM</td>\n",
       "      <td>263</td>\n",
       "      <td>VANDALISM FELONY</td>\n",
       "      <td>1</td>\n",
       "      <td>610 W CORREGIDOR ST</td>\n",
       "      <td>COMPTON</td>\n",
       "      <td>CA</td>\n",
       "      <td>90220.0</td>\n",
       "      <td>33.889429</td>\n",
       "      <td>-118.232992</td>\n",
       "      <td>N</td>\n",
       "      <td>2835</td>\n",
       "      <td>CA0190042</td>\n",
       "      <td>COMPTON</td>\n",
       "      <td>17987318</td>\n",
       "      <td>610 W CORREGIDOR ST\\nCOMPTON, CA 90220\\n(33.88...</td>\n",
       "    </tr>\n",
       "    <tr>\n",
       "      <th>40000</th>\n",
       "      <td>05/24/2017 02:05:00 PM</td>\n",
       "      <td>2017</td>\n",
       "      <td>7</td>\n",
       "      <td>GRAND THEFT AUTO</td>\n",
       "      <td>91</td>\n",
       "      <td>GRAND THEFT VEHICLE (GTA): Automobile/Passenge...</td>\n",
       "      <td>1</td>\n",
       "      <td>9300 SIERRA VISTA DR</td>\n",
       "      <td>PICO RIVERA</td>\n",
       "      <td>CA</td>\n",
       "      <td>NaN</td>\n",
       "      <td>33.967714</td>\n",
       "      <td>-118.098478</td>\n",
       "      <td>N</td>\n",
       "      <td>1518</td>\n",
       "      <td>CA0190015</td>\n",
       "      <td>PICO RIVERA</td>\n",
       "      <td>18216008</td>\n",
       "      <td>9300 SIERRA VISTA DR\\nPICO RIVERA, CA\\n(33.967...</td>\n",
       "    </tr>\n",
       "    <tr>\n",
       "      <th>60000</th>\n",
       "      <td>03/25/2017 08:03:00 AM</td>\n",
       "      <td>2017</td>\n",
       "      <td>7</td>\n",
       "      <td>GRAND THEFT AUTO</td>\n",
       "      <td>91</td>\n",
       "      <td>GRAND THEFT VEHICLE (GTA): Automobile/Passenge...</td>\n",
       "      <td>1</td>\n",
       "      <td>9930 CEDAR ST</td>\n",
       "      <td>BELLFLOWER</td>\n",
       "      <td>CA</td>\n",
       "      <td>90706.0</td>\n",
       "      <td>33.871000</td>\n",
       "      <td>-118.122006</td>\n",
       "      <td>N</td>\n",
       "      <td>1335</td>\n",
       "      <td>CA0190013</td>\n",
       "      <td>LAKEWOOD</td>\n",
       "      <td>18151622</td>\n",
       "      <td>9930 CEDAR ST\\nBELLFLOWER, CA 90706\\n(33.87099...</td>\n",
       "    </tr>\n",
       "    <tr>\n",
       "      <th>80000</th>\n",
       "      <td>10/19/2016 04:10:00 AM</td>\n",
       "      <td>2016</td>\n",
       "      <td>5</td>\n",
       "      <td>BURGLARY</td>\n",
       "      <td>71</td>\n",
       "      <td>BURGLARY, OTHER STRUCTURE: Night, Entry By Force</td>\n",
       "      <td>1</td>\n",
       "      <td>9010 SLAUSON AVE</td>\n",
       "      <td>PICO RIVERA</td>\n",
       "      <td>CA</td>\n",
       "      <td>90660.0</td>\n",
       "      <td>33.971104</td>\n",
       "      <td>-118.104307</td>\n",
       "      <td>N</td>\n",
       "      <td>1517</td>\n",
       "      <td>CA0190015</td>\n",
       "      <td>PICO RIVERA</td>\n",
       "      <td>17939209</td>\n",
       "      <td>9010 SLAUSON AVE\\nPICO RIVERA, CA 90660\\n(33.9...</td>\n",
       "    </tr>\n",
       "    <tr>\n",
       "      <th>100000</th>\n",
       "      <td>11/11/2016 03:11:00 PM</td>\n",
       "      <td>2016</td>\n",
       "      <td>16</td>\n",
       "      <td>NARCOTICS</td>\n",
       "      <td>183</td>\n",
       "      <td>Under The Influence Of Narcotic 11550 HS. Does...</td>\n",
       "      <td>1</td>\n",
       "      <td>5300 WHITTIER BLVD</td>\n",
       "      <td>LOS ANGELES</td>\n",
       "      <td>CA</td>\n",
       "      <td>90022.0</td>\n",
       "      <td>34.020380</td>\n",
       "      <td>-118.155995</td>\n",
       "      <td>N</td>\n",
       "      <td>286</td>\n",
       "      <td>CA0190002</td>\n",
       "      <td>EAST LOS ANGELES</td>\n",
       "      <td>17963711</td>\n",
       "      <td>5300 WHITTIER BLVD\\nLOS ANGELES, CA 90022\\n(34...</td>\n",
       "    </tr>\n",
       "    <tr>\n",
       "      <th>120000</th>\n",
       "      <td>07/17/2017 11:07:00 AM</td>\n",
       "      <td>2017</td>\n",
       "      <td>24</td>\n",
       "      <td>VANDALISM</td>\n",
       "      <td>263</td>\n",
       "      <td>VANDALISM FELONY</td>\n",
       "      <td>1</td>\n",
       "      <td>14340 PIONEER BLVD</td>\n",
       "      <td>NORWALK</td>\n",
       "      <td>CA</td>\n",
       "      <td>NaN</td>\n",
       "      <td>33.901496</td>\n",
       "      <td>-118.082564</td>\n",
       "      <td>N</td>\n",
       "      <td>455</td>\n",
       "      <td>CA0190004</td>\n",
       "      <td>NORWALK</td>\n",
       "      <td>18275408</td>\n",
       "      <td>14340 PIONEER BLVD\\nNORWALK, CA\\n(33.901495512...</td>\n",
       "    </tr>\n",
       "    <tr>\n",
       "      <th>140000</th>\n",
       "      <td>11/16/2016 12:11:00 AM</td>\n",
       "      <td>2016</td>\n",
       "      <td>10</td>\n",
       "      <td>FRAUD AND NSF CHECKS</td>\n",
       "      <td>117</td>\n",
       "      <td>IDENTITY THEFT (GOODS/SERVICES/CREDIT)</td>\n",
       "      <td>1</td>\n",
       "      <td>16800 ARROW HWY</td>\n",
       "      <td>AZUSA</td>\n",
       "      <td>CA</td>\n",
       "      <td>91702.0</td>\n",
       "      <td>34.107291</td>\n",
       "      <td>-117.918695</td>\n",
       "      <td>N</td>\n",
       "      <td>867</td>\n",
       "      <td>CA0190008</td>\n",
       "      <td>SAN DIMAS</td>\n",
       "      <td>18180858</td>\n",
       "      <td>16800 ARROW HWY\\nAZUSA, CA 91702\\n(34.10729138...</td>\n",
       "    </tr>\n",
       "    <tr>\n",
       "      <th>160000</th>\n",
       "      <td>09/15/2017 01:09:00 PM</td>\n",
       "      <td>2017</td>\n",
       "      <td>13</td>\n",
       "      <td>NON-AGGRAVATED ASSAULTS</td>\n",
       "      <td>144</td>\n",
       "      <td>ASSAULT, NON-AGG: Hands, Feet, Fist, Etc.</td>\n",
       "      <td>1</td>\n",
       "      <td>21900 S MONETA AVE</td>\n",
       "      <td>CARSON</td>\n",
       "      <td>CA</td>\n",
       "      <td>90745.0</td>\n",
       "      <td>33.829081</td>\n",
       "      <td>-118.282963</td>\n",
       "      <td>N</td>\n",
       "      <td>1617</td>\n",
       "      <td>CA0190016</td>\n",
       "      <td>CARSON</td>\n",
       "      <td>18333379</td>\n",
       "      <td>21900 S MONETA AVE\\nCARSON, CA 90745\\n(33.8290...</td>\n",
       "    </tr>\n",
       "  </tbody>\n",
       "</table>\n",
       "</div>"
      ],
      "text/plain": [
       "                    CRIME_DATE  CRIME_YEAR  CRIME_CATEGORY_NUMBER  \\\n",
       "0       01/08/2017 11:01:30 AM        2017                      6   \n",
       "20000   12/07/2016 04:12:00 AM        2016                     24   \n",
       "40000   05/24/2017 02:05:00 PM        2017                      7   \n",
       "60000   03/25/2017 08:03:00 AM        2017                      7   \n",
       "80000   10/19/2016 04:10:00 AM        2016                      5   \n",
       "100000  11/11/2016 03:11:00 PM        2016                     16   \n",
       "120000  07/17/2017 11:07:00 AM        2017                     24   \n",
       "140000  11/16/2016 12:11:00 AM        2016                     10   \n",
       "160000  09/15/2017 01:09:00 PM        2017                     13   \n",
       "\n",
       "       CRIME_CATEGORY_DESCRIPTION  STATISTICAL_CODE  \\\n",
       "0                   LARCENY THEFT               389   \n",
       "20000                   VANDALISM               263   \n",
       "40000            GRAND THEFT AUTO                91   \n",
       "60000            GRAND THEFT AUTO                91   \n",
       "80000                    BURGLARY                71   \n",
       "100000                  NARCOTICS               183   \n",
       "120000                  VANDALISM               263   \n",
       "140000       FRAUD AND NSF CHECKS               117   \n",
       "160000    NON-AGGRAVATED ASSAULTS               144   \n",
       "\n",
       "                             STATISTICAL_CODE_DESCRIPTION  VICTIM_COUNT  \\\n",
       "0       THEFT, PETTY: Other (From Prvt Res, Boat, Plan...             1   \n",
       "20000                                    VANDALISM FELONY             1   \n",
       "40000   GRAND THEFT VEHICLE (GTA): Automobile/Passenge...             1   \n",
       "60000   GRAND THEFT VEHICLE (GTA): Automobile/Passenge...             1   \n",
       "80000    BURGLARY, OTHER STRUCTURE: Night, Entry By Force             1   \n",
       "100000  Under The Influence Of Narcotic 11550 HS. Does...             1   \n",
       "120000                                   VANDALISM FELONY             1   \n",
       "140000             IDENTITY THEFT (GOODS/SERVICES/CREDIT)             1   \n",
       "160000          ASSAULT, NON-AGG: Hands, Feet, Fist, Etc.             1   \n",
       "\n",
       "                      STREET         CITY STATE      ZIP   LATITUDE  \\\n",
       "0             44240 4TH ST E    LANCASTER    CA      NaN  34.686938   \n",
       "20000    610 W CORREGIDOR ST      COMPTON    CA  90220.0  33.889429   \n",
       "40000   9300 SIERRA VISTA DR  PICO RIVERA    CA      NaN  33.967714   \n",
       "60000          9930 CEDAR ST   BELLFLOWER    CA  90706.0  33.871000   \n",
       "80000       9010 SLAUSON AVE  PICO RIVERA    CA  90660.0  33.971104   \n",
       "100000    5300 WHITTIER BLVD  LOS ANGELES    CA  90022.0  34.020380   \n",
       "120000    14340 PIONEER BLVD      NORWALK    CA      NaN  33.901496   \n",
       "140000       16800 ARROW HWY        AZUSA    CA  91702.0  34.107291   \n",
       "160000    21900 S MONETA AVE       CARSON    CA  90745.0  33.829081   \n",
       "\n",
       "         LONGITUDE GANG_RELATED  REPORTING_DISTRICT STATION_IDENTIFIER  \\\n",
       "0      -118.123960            N                1133          CA0190024   \n",
       "20000  -118.232992            N                2835          CA0190042   \n",
       "40000  -118.098478            N                1518          CA0190015   \n",
       "60000  -118.122006            N                1335          CA0190013   \n",
       "80000  -118.104307            N                1517          CA0190015   \n",
       "100000 -118.155995            N                 286          CA0190002   \n",
       "120000 -118.082564            N                 455          CA0190004   \n",
       "140000 -117.918695            N                 867          CA0190008   \n",
       "160000 -118.282963            N                1617          CA0190016   \n",
       "\n",
       "            STATION_NAME  CRIME_IDENTIFIER  \\\n",
       "0              LANCASTER          18052353   \n",
       "20000            COMPTON          17987318   \n",
       "40000        PICO RIVERA          18216008   \n",
       "60000           LAKEWOOD          18151622   \n",
       "80000        PICO RIVERA          17939209   \n",
       "100000  EAST LOS ANGELES          17963711   \n",
       "120000           NORWALK          18275408   \n",
       "140000         SAN DIMAS          18180858   \n",
       "160000            CARSON          18333379   \n",
       "\n",
       "                                                 LOCATION  \n",
       "0       44240 4TH ST E\\nLANCASTER, CA\\n(34.68693834371...  \n",
       "20000   610 W CORREGIDOR ST\\nCOMPTON, CA 90220\\n(33.88...  \n",
       "40000   9300 SIERRA VISTA DR\\nPICO RIVERA, CA\\n(33.967...  \n",
       "60000   9930 CEDAR ST\\nBELLFLOWER, CA 90706\\n(33.87099...  \n",
       "80000   9010 SLAUSON AVE\\nPICO RIVERA, CA 90660\\n(33.9...  \n",
       "100000  5300 WHITTIER BLVD\\nLOS ANGELES, CA 90022\\n(34...  \n",
       "120000  14340 PIONEER BLVD\\nNORWALK, CA\\n(33.901495512...  \n",
       "140000  16800 ARROW HWY\\nAZUSA, CA 91702\\n(34.10729138...  \n",
       "160000  21900 S MONETA AVE\\nCARSON, CA 90745\\n(33.8290...  "
      ]
     },
     "execution_count": 2,
     "metadata": {},
     "output_type": "execute_result"
    }
   ],
   "source": [
    "sheriff_df[::20000]"
   ]
  },
  {
   "cell_type": "markdown",
   "metadata": {},
   "source": [
    "### Print size/shape of Dataset"
   ]
  },
  {
   "cell_type": "code",
   "execution_count": 3,
   "metadata": {},
   "outputs": [
    {
     "name": "stdout",
     "output_type": "stream",
     "text": [
      "(170480, 19)\n"
     ]
    }
   ],
   "source": [
    "print(sheriff_df.shape)"
   ]
  },
  {
   "cell_type": "markdown",
   "metadata": {},
   "source": [
    "### Define features and label"
   ]
  },
  {
   "cell_type": "code",
   "execution_count": 4,
   "metadata": {
    "collapsed": true
   },
   "outputs": [],
   "source": [
    "''' # saved for convenience; might be useful if we try k-means clustering.. if we have time\n",
    "\n",
    "all_columns = ['CRIME_DATE', 'CRIME_YEAR', 'CRIME_CATEGORY_NUMBER',\n",
    "       'CRIME_CATEGORY_DESCRIPTION', 'STATISTICAL_CODE',\n",
    "       'STATISTICAL_CODE_DESCRIPTION', 'VICTIM_COUNT', 'STREET', 'CITY',\n",
    "       'STATE', 'ZIP', 'LATITUDE', 'LONGITUDE', 'GANG_RELATED',\n",
    "       'REPORTING_DISTRICT', 'STATION_IDENTIFIER', 'STATION_NAME',\n",
    "       'CRIME_IDENTIFIER', 'LOCATION']\n",
    "'''\n",
    "\n",
    "# edit features to include here\n",
    "feat_cols = ['CRIME_DATE', 'CRIME_YEAR', 'CITY']\n",
    "\n",
    "label_col = [\"CRIME_CATEGORY_NUMBER\"]\n"
   ]
  },
  {
   "cell_type": "markdown",
   "metadata": {},
   "source": [
    "### Assign FEATURES and LABELS\n",
    "#### _Note_ : Rows where CITY feature/value is missing are filtered out"
   ]
  },
  {
   "cell_type": "code",
   "execution_count": 5,
   "metadata": {},
   "outputs": [
    {
     "name": "stdout",
     "output_type": "stream",
     "text": [
      "3119 rows were filtered out!\n",
      "We still have 167361 left :)\n"
     ]
    }
   ],
   "source": [
    "filter_sheriff_df = sheriff_df[pd.notnull(sheriff_df['CITY']) ] # filter out rows where CITY value is missing\n",
    "\n",
    "X_sheriff_df = filter_sheriff_df[feat_cols] # FEATURES column\n",
    "y_sheriff_df = filter_sheriff_df[label_col] # LABELS\n",
    "\n",
    "print(sheriff_df.shape[0] - X_sheriff_df.shape[0], \"rows were filtered out!\")\n",
    "print(\"We still have\", X_sheriff_df.shape[0], \"left :)\")"
   ]
  },
  {
   "cell_type": "markdown",
   "metadata": {},
   "source": [
    "### Print out FEATURE columns"
   ]
  },
  {
   "cell_type": "code",
   "execution_count": 6,
   "metadata": {},
   "outputs": [
    {
     "data": {
      "text/html": [
       "<div>\n",
       "<style>\n",
       "    .dataframe thead tr:only-child th {\n",
       "        text-align: right;\n",
       "    }\n",
       "\n",
       "    .dataframe thead th {\n",
       "        text-align: left;\n",
       "    }\n",
       "\n",
       "    .dataframe tbody tr th {\n",
       "        vertical-align: top;\n",
       "    }\n",
       "</style>\n",
       "<table border=\"1\" class=\"dataframe\">\n",
       "  <thead>\n",
       "    <tr style=\"text-align: right;\">\n",
       "      <th></th>\n",
       "      <th>CRIME_DATE</th>\n",
       "      <th>CRIME_YEAR</th>\n",
       "      <th>CITY</th>\n",
       "    </tr>\n",
       "  </thead>\n",
       "  <tbody>\n",
       "    <tr>\n",
       "      <th>0</th>\n",
       "      <td>01/08/2017 11:01:30 AM</td>\n",
       "      <td>2017</td>\n",
       "      <td>LANCASTER</td>\n",
       "    </tr>\n",
       "    <tr>\n",
       "      <th>1</th>\n",
       "      <td>10/09/2016 01:10:00 PM</td>\n",
       "      <td>2016</td>\n",
       "      <td>COMPTON</td>\n",
       "    </tr>\n",
       "    <tr>\n",
       "      <th>2</th>\n",
       "      <td>07/30/2017 12:07:00 PM</td>\n",
       "      <td>2017</td>\n",
       "      <td>ROWLAND HEIGHTS</td>\n",
       "    </tr>\n",
       "    <tr>\n",
       "      <th>4</th>\n",
       "      <td>08/06/2017 05:08:00 AM</td>\n",
       "      <td>2017</td>\n",
       "      <td>PALMDALE</td>\n",
       "    </tr>\n",
       "    <tr>\n",
       "      <th>6</th>\n",
       "      <td>07/12/2017 10:07:00 AM</td>\n",
       "      <td>2017</td>\n",
       "      <td>CHATSWORTH</td>\n",
       "    </tr>\n",
       "  </tbody>\n",
       "</table>\n",
       "</div>"
      ],
      "text/plain": [
       "               CRIME_DATE  CRIME_YEAR             CITY\n",
       "0  01/08/2017 11:01:30 AM        2017        LANCASTER\n",
       "1  10/09/2016 01:10:00 PM        2016          COMPTON\n",
       "2  07/30/2017 12:07:00 PM        2017  ROWLAND HEIGHTS\n",
       "4  08/06/2017 05:08:00 AM        2017         PALMDALE\n",
       "6  07/12/2017 10:07:00 AM        2017       CHATSWORTH"
      ]
     },
     "execution_count": 6,
     "metadata": {},
     "output_type": "execute_result"
    }
   ],
   "source": [
    "X_sheriff_df.head()"
   ]
  },
  {
   "cell_type": "markdown",
   "metadata": {},
   "source": [
    "### Print out LABEL column"
   ]
  },
  {
   "cell_type": "code",
   "execution_count": 7,
   "metadata": {},
   "outputs": [
    {
     "data": {
      "text/html": [
       "<div>\n",
       "<style>\n",
       "    .dataframe thead tr:only-child th {\n",
       "        text-align: right;\n",
       "    }\n",
       "\n",
       "    .dataframe thead th {\n",
       "        text-align: left;\n",
       "    }\n",
       "\n",
       "    .dataframe tbody tr th {\n",
       "        vertical-align: top;\n",
       "    }\n",
       "</style>\n",
       "<table border=\"1\" class=\"dataframe\">\n",
       "  <thead>\n",
       "    <tr style=\"text-align: right;\">\n",
       "      <th></th>\n",
       "      <th>CRIME_CATEGORY_NUMBER</th>\n",
       "    </tr>\n",
       "  </thead>\n",
       "  <tbody>\n",
       "    <tr>\n",
       "      <th>0</th>\n",
       "      <td>6</td>\n",
       "    </tr>\n",
       "    <tr>\n",
       "      <th>1</th>\n",
       "      <td>23</td>\n",
       "    </tr>\n",
       "    <tr>\n",
       "      <th>2</th>\n",
       "      <td>6</td>\n",
       "    </tr>\n",
       "    <tr>\n",
       "      <th>4</th>\n",
       "      <td>5</td>\n",
       "    </tr>\n",
       "    <tr>\n",
       "      <th>6</th>\n",
       "      <td>23</td>\n",
       "    </tr>\n",
       "  </tbody>\n",
       "</table>\n",
       "</div>"
      ],
      "text/plain": [
       "   CRIME_CATEGORY_NUMBER\n",
       "0                      6\n",
       "1                     23\n",
       "2                      6\n",
       "4                      5\n",
       "6                     23"
      ]
     },
     "execution_count": 7,
     "metadata": {},
     "output_type": "execute_result"
    }
   ],
   "source": [
    "y_sheriff_df.head()"
   ]
  },
  {
   "cell_type": "markdown",
   "metadata": {},
   "source": [
    "### Print size/shape of FEATURE and LABEL columns"
   ]
  },
  {
   "cell_type": "code",
   "execution_count": 8,
   "metadata": {},
   "outputs": [
    {
     "name": "stdout",
     "output_type": "stream",
     "text": [
      "(167361, 3)\n",
      "(167361, 1)\n"
     ]
    }
   ],
   "source": [
    "print(X_sheriff_df.shape)\n",
    "print(y_sheriff_df.shape)"
   ]
  },
  {
   "cell_type": "markdown",
   "metadata": {},
   "source": [
    "## Preprocessing"
   ]
  },
  {
   "cell_type": "markdown",
   "metadata": {},
   "source": [
    "### Define month dict"
   ]
  },
  {
   "cell_type": "code",
   "execution_count": 9,
   "metadata": {
    "collapsed": true
   },
   "outputs": [],
   "source": [
    "month_dict = {\n",
    "    \"01\": \"January\",\n",
    "    \"02\": \"February\",\n",
    "    \"03\": \"March\",\n",
    "    \"04\": \"April\",\n",
    "    \"05\": \"May\",\n",
    "    \"06\": \"June\",\n",
    "    \"07\": \"July\",\n",
    "    \"08\": \"August\",\n",
    "    \"09\": \"September\",\n",
    "    \"10\": \"October\",\n",
    "    \"11\": \"November\",\n",
    "    \"12\": \"December\"\n",
    "}"
   ]
  },
  {
   "cell_type": "markdown",
   "metadata": {},
   "source": [
    "### Make a copy of ```X_sherifff_df```"
   ]
  },
  {
   "cell_type": "code",
   "execution_count": 10,
   "metadata": {
    "collapsed": true
   },
   "outputs": [],
   "source": [
    "X_prep_df = X_sheriff_df.copy() # X is capitalized..."
   ]
  },
  {
   "cell_type": "markdown",
   "metadata": {},
   "source": [
    "### Print copy"
   ]
  },
  {
   "cell_type": "code",
   "execution_count": 11,
   "metadata": {},
   "outputs": [
    {
     "data": {
      "text/html": [
       "<div>\n",
       "<style>\n",
       "    .dataframe thead tr:only-child th {\n",
       "        text-align: right;\n",
       "    }\n",
       "\n",
       "    .dataframe thead th {\n",
       "        text-align: left;\n",
       "    }\n",
       "\n",
       "    .dataframe tbody tr th {\n",
       "        vertical-align: top;\n",
       "    }\n",
       "</style>\n",
       "<table border=\"1\" class=\"dataframe\">\n",
       "  <thead>\n",
       "    <tr style=\"text-align: right;\">\n",
       "      <th></th>\n",
       "      <th>CRIME_DATE</th>\n",
       "      <th>CRIME_YEAR</th>\n",
       "      <th>CITY</th>\n",
       "    </tr>\n",
       "  </thead>\n",
       "  <tbody>\n",
       "    <tr>\n",
       "      <th>0</th>\n",
       "      <td>01/08/2017 11:01:30 AM</td>\n",
       "      <td>2017</td>\n",
       "      <td>LANCASTER</td>\n",
       "    </tr>\n",
       "    <tr>\n",
       "      <th>1</th>\n",
       "      <td>10/09/2016 01:10:00 PM</td>\n",
       "      <td>2016</td>\n",
       "      <td>COMPTON</td>\n",
       "    </tr>\n",
       "    <tr>\n",
       "      <th>2</th>\n",
       "      <td>07/30/2017 12:07:00 PM</td>\n",
       "      <td>2017</td>\n",
       "      <td>ROWLAND HEIGHTS</td>\n",
       "    </tr>\n",
       "    <tr>\n",
       "      <th>4</th>\n",
       "      <td>08/06/2017 05:08:00 AM</td>\n",
       "      <td>2017</td>\n",
       "      <td>PALMDALE</td>\n",
       "    </tr>\n",
       "    <tr>\n",
       "      <th>6</th>\n",
       "      <td>07/12/2017 10:07:00 AM</td>\n",
       "      <td>2017</td>\n",
       "      <td>CHATSWORTH</td>\n",
       "    </tr>\n",
       "  </tbody>\n",
       "</table>\n",
       "</div>"
      ],
      "text/plain": [
       "               CRIME_DATE  CRIME_YEAR             CITY\n",
       "0  01/08/2017 11:01:30 AM        2017        LANCASTER\n",
       "1  10/09/2016 01:10:00 PM        2016          COMPTON\n",
       "2  07/30/2017 12:07:00 PM        2017  ROWLAND HEIGHTS\n",
       "4  08/06/2017 05:08:00 AM        2017         PALMDALE\n",
       "6  07/12/2017 10:07:00 AM        2017       CHATSWORTH"
      ]
     },
     "execution_count": 11,
     "metadata": {},
     "output_type": "execute_result"
    }
   ],
   "source": [
    "X_prep_df.head()"
   ]
  },
  {
   "cell_type": "markdown",
   "metadata": {},
   "source": [
    "### Check shape of copy"
   ]
  },
  {
   "cell_type": "code",
   "execution_count": 12,
   "metadata": {},
   "outputs": [
    {
     "data": {
      "text/plain": [
       "(167361, 3)"
      ]
     },
     "execution_count": 12,
     "metadata": {},
     "output_type": "execute_result"
    }
   ],
   "source": [
    "X_prep_df.shape"
   ]
  },
  {
   "cell_type": "markdown",
   "metadata": {},
   "source": [
    "### Split DATE into CRIME_MONTH and CRIME_DAY"
   ]
  },
  {
   "cell_type": "code",
   "execution_count": 13,
   "metadata": {
    "collapsed": true
   },
   "outputs": [],
   "source": [
    "#First we are just getting the date of the crime here\n",
    "\n",
    "X_prep_df['DATE'] = X_prep_df.CRIME_DATE.str.split('\\s+').str[0]\n",
    "X_prep_df['CRIME_MONTH'] = X_prep_df['DATE'].str.split(\"/\").str[0]\n",
    "X_prep_df['CRIME_DAY'] = X_prep_df['DATE'].str.split(\"/\").str[1]\n"
   ]
  },
  {
   "cell_type": "markdown",
   "metadata": {},
   "source": [
    "### Print out DATE, CRIME_MONTH, and CRIME_DAY and check SHAPE"
   ]
  },
  {
   "cell_type": "code",
   "execution_count": 14,
   "metadata": {},
   "outputs": [
    {
     "name": "stdout",
     "output_type": "stream",
     "text": [
      "0    01/08/2017\n",
      "1    10/09/2016\n",
      "2    07/30/2017\n",
      "4    08/06/2017\n",
      "6    07/12/2017\n",
      "Name: DATE, dtype: object\n",
      "(167361,) \n",
      "\n",
      "0    01\n",
      "1    10\n",
      "2    07\n",
      "4    08\n",
      "6    07\n",
      "Name: CRIME_MONTH, dtype: object\n",
      "(167361,) \n",
      "\n",
      "0    08\n",
      "1    09\n",
      "2    30\n",
      "4    06\n",
      "6    12\n",
      "Name: CRIME_DAY, dtype: object\n",
      "(167361,)\n"
     ]
    }
   ],
   "source": [
    "print(X_prep_df['DATE'].head())\n",
    "print(X_prep_df['DATE'].shape, \"\\n\")\n",
    "\n",
    "print(X_prep_df['CRIME_MONTH'].head())\n",
    "print(X_prep_df['CRIME_MONTH'].shape, \"\\n\")\n",
    "\n",
    "print(X_prep_df['CRIME_DAY'].head())\n",
    "print(X_prep_df['CRIME_DAY'].shape)"
   ]
  },
  {
   "cell_type": "markdown",
   "metadata": {},
   "source": [
    "### Convert TIME to TIME24 (24 hour time) and PRINT"
   ]
  },
  {
   "cell_type": "code",
   "execution_count": 15,
   "metadata": {},
   "outputs": [
    {
     "data": {
      "text/plain": [
       "0    11:01:30\n",
       "1    13:10:00\n",
       "2    12:07:00\n",
       "4    05:08:00\n",
       "6    10:07:00\n",
       "Name: TIME24, dtype: object"
      ]
     },
     "execution_count": 15,
     "metadata": {},
     "output_type": "execute_result"
    }
   ],
   "source": [
    "#Now we can get the time of the crime and convert it to 24 hour time\n",
    "X_prep_df['TIME24'] = pd.to_datetime(X_sheriff_df['CRIME_DATE'], format='%m/%d/%Y %I:%M:%S %p').dt.time.astype(str)\n",
    "\n",
    "X_prep_df['TIME24'].head()"
   ]
  },
  {
   "cell_type": "markdown",
   "metadata": {},
   "source": [
    "### Split TIME24 in to HOUR and MINUTE and PRINT"
   ]
  },
  {
   "cell_type": "code",
   "execution_count": 16,
   "metadata": {},
   "outputs": [
    {
     "name": "stdout",
     "output_type": "stream",
     "text": [
      "0    11:01:30\n",
      "1    13:10:00\n",
      "2    12:07:00\n",
      "4    05:08:00\n",
      "6    10:07:00\n",
      "Name: TIME24, dtype: object \n",
      "\n",
      "0    11\n",
      "1    13\n",
      "2    12\n",
      "4    05\n",
      "6    10\n",
      "Name: CRIME_HOUR, dtype: object \n",
      "\n",
      "0    01\n",
      "1    10\n",
      "2    07\n",
      "4    08\n",
      "6    07\n",
      "Name: CRIME_MINUTE, dtype: object \n",
      "\n"
     ]
    }
   ],
   "source": [
    "X_prep_df['CRIME_HOUR']= X_prep_df['TIME24'].str.split(\":\").str[0]\n",
    "X_prep_df['CRIME_MINUTE'] = X_prep_df['TIME24'].str.split(\":\").str[1]\n",
    "\n",
    "print(X_prep_df['TIME24'].head(), \"\\n\")\n",
    "print(X_prep_df['CRIME_HOUR'].head(), \"\\n\")\n",
    "print(X_prep_df['CRIME_MINUTE'].head(), \"\\n\")"
   ]
  },
  {
   "cell_type": "markdown",
   "metadata": {},
   "source": [
    "### CITY encoding/mapping"
   ]
  },
  {
   "cell_type": "code",
   "execution_count": 17,
   "metadata": {},
   "outputs": [
    {
     "name": "stdout",
     "output_type": "stream",
     "text": [
      "[158  69 251 220  54]\n",
      "['LANCASTER' 'COMPTON' 'ROWLAND HEIGHTS' 'PALMDALE' 'CHATSWORTH']\n"
     ]
    }
   ],
   "source": [
    "class_le = LabelEncoder() # does above automatically; but returns as numpy array\n",
    "city_mapping = class_le.fit_transform(X_prep_df[\"CITY\"])\n",
    "print(city_mapping[:5])\n",
    "\n",
    "city_mapping_inverse = class_le.inverse_transform(city_mapping) # undo transform - back to string\n",
    "print(city_mapping_inverse[:5])"
   ]
  },
  {
   "cell_type": "markdown",
   "metadata": {},
   "source": [
    "### Add CITY_MAP to preprocessed DF"
   ]
  },
  {
   "cell_type": "code",
   "execution_count": 18,
   "metadata": {},
   "outputs": [
    {
     "data": {
      "text/plain": [
       "0    158\n",
       "1     69\n",
       "2    251\n",
       "4    220\n",
       "6     54\n",
       "Name: CITY_MAP, dtype: int64"
      ]
     },
     "execution_count": 18,
     "metadata": {},
     "output_type": "execute_result"
    }
   ],
   "source": [
    "X_prep_df[\"CITY_MAP\"] = city_mapping\n",
    "X_prep_df[\"CITY_MAP\"].head()"
   ]
  },
  {
   "cell_type": "markdown",
   "metadata": {},
   "source": [
    "### Print out all preprocessed data"
   ]
  },
  {
   "cell_type": "code",
   "execution_count": 19,
   "metadata": {},
   "outputs": [
    {
     "data": {
      "text/html": [
       "<div>\n",
       "<style>\n",
       "    .dataframe thead tr:only-child th {\n",
       "        text-align: right;\n",
       "    }\n",
       "\n",
       "    .dataframe thead th {\n",
       "        text-align: left;\n",
       "    }\n",
       "\n",
       "    .dataframe tbody tr th {\n",
       "        vertical-align: top;\n",
       "    }\n",
       "</style>\n",
       "<table border=\"1\" class=\"dataframe\">\n",
       "  <thead>\n",
       "    <tr style=\"text-align: right;\">\n",
       "      <th></th>\n",
       "      <th>CRIME_DATE</th>\n",
       "      <th>CRIME_YEAR</th>\n",
       "      <th>CITY</th>\n",
       "      <th>DATE</th>\n",
       "      <th>CRIME_MONTH</th>\n",
       "      <th>CRIME_DAY</th>\n",
       "      <th>TIME24</th>\n",
       "      <th>CRIME_HOUR</th>\n",
       "      <th>CRIME_MINUTE</th>\n",
       "      <th>CITY_MAP</th>\n",
       "    </tr>\n",
       "  </thead>\n",
       "  <tbody>\n",
       "    <tr>\n",
       "      <th>0</th>\n",
       "      <td>01/08/2017 11:01:30 AM</td>\n",
       "      <td>2017</td>\n",
       "      <td>LANCASTER</td>\n",
       "      <td>01/08/2017</td>\n",
       "      <td>01</td>\n",
       "      <td>08</td>\n",
       "      <td>11:01:30</td>\n",
       "      <td>11</td>\n",
       "      <td>01</td>\n",
       "      <td>158</td>\n",
       "    </tr>\n",
       "    <tr>\n",
       "      <th>1</th>\n",
       "      <td>10/09/2016 01:10:00 PM</td>\n",
       "      <td>2016</td>\n",
       "      <td>COMPTON</td>\n",
       "      <td>10/09/2016</td>\n",
       "      <td>10</td>\n",
       "      <td>09</td>\n",
       "      <td>13:10:00</td>\n",
       "      <td>13</td>\n",
       "      <td>10</td>\n",
       "      <td>69</td>\n",
       "    </tr>\n",
       "    <tr>\n",
       "      <th>2</th>\n",
       "      <td>07/30/2017 12:07:00 PM</td>\n",
       "      <td>2017</td>\n",
       "      <td>ROWLAND HEIGHTS</td>\n",
       "      <td>07/30/2017</td>\n",
       "      <td>07</td>\n",
       "      <td>30</td>\n",
       "      <td>12:07:00</td>\n",
       "      <td>12</td>\n",
       "      <td>07</td>\n",
       "      <td>251</td>\n",
       "    </tr>\n",
       "    <tr>\n",
       "      <th>4</th>\n",
       "      <td>08/06/2017 05:08:00 AM</td>\n",
       "      <td>2017</td>\n",
       "      <td>PALMDALE</td>\n",
       "      <td>08/06/2017</td>\n",
       "      <td>08</td>\n",
       "      <td>06</td>\n",
       "      <td>05:08:00</td>\n",
       "      <td>05</td>\n",
       "      <td>08</td>\n",
       "      <td>220</td>\n",
       "    </tr>\n",
       "    <tr>\n",
       "      <th>6</th>\n",
       "      <td>07/12/2017 10:07:00 AM</td>\n",
       "      <td>2017</td>\n",
       "      <td>CHATSWORTH</td>\n",
       "      <td>07/12/2017</td>\n",
       "      <td>07</td>\n",
       "      <td>12</td>\n",
       "      <td>10:07:00</td>\n",
       "      <td>10</td>\n",
       "      <td>07</td>\n",
       "      <td>54</td>\n",
       "    </tr>\n",
       "  </tbody>\n",
       "</table>\n",
       "</div>"
      ],
      "text/plain": [
       "               CRIME_DATE  CRIME_YEAR             CITY        DATE  \\\n",
       "0  01/08/2017 11:01:30 AM        2017        LANCASTER  01/08/2017   \n",
       "1  10/09/2016 01:10:00 PM        2016          COMPTON  10/09/2016   \n",
       "2  07/30/2017 12:07:00 PM        2017  ROWLAND HEIGHTS  07/30/2017   \n",
       "4  08/06/2017 05:08:00 AM        2017         PALMDALE  08/06/2017   \n",
       "6  07/12/2017 10:07:00 AM        2017       CHATSWORTH  07/12/2017   \n",
       "\n",
       "  CRIME_MONTH CRIME_DAY    TIME24 CRIME_HOUR CRIME_MINUTE  CITY_MAP  \n",
       "0          01        08  11:01:30         11           01       158  \n",
       "1          10        09  13:10:00         13           10        69  \n",
       "2          07        30  12:07:00         12           07       251  \n",
       "4          08        06  05:08:00         05           08       220  \n",
       "6          07        12  10:07:00         10           07        54  "
      ]
     },
     "execution_count": 19,
     "metadata": {},
     "output_type": "execute_result"
    }
   ],
   "source": [
    "X_prep_df.head()"
   ]
  },
  {
   "cell_type": "markdown",
   "metadata": {},
   "source": [
    "### Check preprocessed DF size"
   ]
  },
  {
   "cell_type": "code",
   "execution_count": 20,
   "metadata": {},
   "outputs": [
    {
     "name": "stdout",
     "output_type": "stream",
     "text": [
      "(167361, 10)\n"
     ]
    }
   ],
   "source": [
    "print(X_prep_df.shape)"
   ]
  },
  {
   "cell_type": "markdown",
   "metadata": {},
   "source": [
    "### One-Hot-Encoding"
   ]
  },
  {
   "cell_type": "code",
   "execution_count": 21,
   "metadata": {
    "collapsed": true
   },
   "outputs": [],
   "source": [
    "# leaving out 'CRIME_MINUTE' since it's range is only between 0 - 12... idk why\n",
    "\n",
    "features_to_ohe = ['CRIME_MONTH', 'CRIME_DAY', 'CRIME_YEAR', 'CRIME_HOUR', 'CITY_MAP']\n",
    "\n",
    "X = pd.get_dummies(X_prep_df[features_to_ohe], columns = features_to_ohe)\n",
    "\n",
    "y = y_sheriff_df[\"CRIME_CATEGORY_NUMBER\"] # this solved the ravel() issue"
   ]
  },
  {
   "cell_type": "markdown",
   "metadata": {},
   "source": [
    "### Print X"
   ]
  },
  {
   "cell_type": "code",
   "execution_count": 22,
   "metadata": {},
   "outputs": [
    {
     "data": {
      "text/html": [
       "<div>\n",
       "<style>\n",
       "    .dataframe thead tr:only-child th {\n",
       "        text-align: right;\n",
       "    }\n",
       "\n",
       "    .dataframe thead th {\n",
       "        text-align: left;\n",
       "    }\n",
       "\n",
       "    .dataframe tbody tr th {\n",
       "        vertical-align: top;\n",
       "    }\n",
       "</style>\n",
       "<table border=\"1\" class=\"dataframe\">\n",
       "  <thead>\n",
       "    <tr style=\"text-align: right;\">\n",
       "      <th></th>\n",
       "      <th>CRIME_MONTH_01</th>\n",
       "      <th>CRIME_MONTH_02</th>\n",
       "      <th>CRIME_MONTH_03</th>\n",
       "      <th>CRIME_MONTH_04</th>\n",
       "      <th>CRIME_MONTH_05</th>\n",
       "      <th>CRIME_MONTH_06</th>\n",
       "      <th>CRIME_MONTH_07</th>\n",
       "      <th>CRIME_MONTH_08</th>\n",
       "      <th>CRIME_MONTH_09</th>\n",
       "      <th>CRIME_MONTH_10</th>\n",
       "      <th>...</th>\n",
       "      <th>CITY_MAP_336</th>\n",
       "      <th>CITY_MAP_337</th>\n",
       "      <th>CITY_MAP_338</th>\n",
       "      <th>CITY_MAP_339</th>\n",
       "      <th>CITY_MAP_340</th>\n",
       "      <th>CITY_MAP_341</th>\n",
       "      <th>CITY_MAP_342</th>\n",
       "      <th>CITY_MAP_343</th>\n",
       "      <th>CITY_MAP_344</th>\n",
       "      <th>CITY_MAP_345</th>\n",
       "    </tr>\n",
       "  </thead>\n",
       "  <tbody>\n",
       "    <tr>\n",
       "      <th>0</th>\n",
       "      <td>1</td>\n",
       "      <td>0</td>\n",
       "      <td>0</td>\n",
       "      <td>0</td>\n",
       "      <td>0</td>\n",
       "      <td>0</td>\n",
       "      <td>0</td>\n",
       "      <td>0</td>\n",
       "      <td>0</td>\n",
       "      <td>0</td>\n",
       "      <td>...</td>\n",
       "      <td>0</td>\n",
       "      <td>0</td>\n",
       "      <td>0</td>\n",
       "      <td>0</td>\n",
       "      <td>0</td>\n",
       "      <td>0</td>\n",
       "      <td>0</td>\n",
       "      <td>0</td>\n",
       "      <td>0</td>\n",
       "      <td>0</td>\n",
       "    </tr>\n",
       "    <tr>\n",
       "      <th>21649</th>\n",
       "      <td>0</td>\n",
       "      <td>0</td>\n",
       "      <td>0</td>\n",
       "      <td>0</td>\n",
       "      <td>0</td>\n",
       "      <td>0</td>\n",
       "      <td>0</td>\n",
       "      <td>0</td>\n",
       "      <td>0</td>\n",
       "      <td>1</td>\n",
       "      <td>...</td>\n",
       "      <td>0</td>\n",
       "      <td>0</td>\n",
       "      <td>0</td>\n",
       "      <td>0</td>\n",
       "      <td>0</td>\n",
       "      <td>0</td>\n",
       "      <td>0</td>\n",
       "      <td>0</td>\n",
       "      <td>0</td>\n",
       "      <td>0</td>\n",
       "    </tr>\n",
       "    <tr>\n",
       "      <th>41798</th>\n",
       "      <td>0</td>\n",
       "      <td>0</td>\n",
       "      <td>0</td>\n",
       "      <td>0</td>\n",
       "      <td>0</td>\n",
       "      <td>0</td>\n",
       "      <td>0</td>\n",
       "      <td>0</td>\n",
       "      <td>0</td>\n",
       "      <td>0</td>\n",
       "      <td>...</td>\n",
       "      <td>0</td>\n",
       "      <td>0</td>\n",
       "      <td>0</td>\n",
       "      <td>0</td>\n",
       "      <td>0</td>\n",
       "      <td>0</td>\n",
       "      <td>0</td>\n",
       "      <td>0</td>\n",
       "      <td>0</td>\n",
       "      <td>0</td>\n",
       "    </tr>\n",
       "    <tr>\n",
       "      <th>61960</th>\n",
       "      <td>1</td>\n",
       "      <td>0</td>\n",
       "      <td>0</td>\n",
       "      <td>0</td>\n",
       "      <td>0</td>\n",
       "      <td>0</td>\n",
       "      <td>0</td>\n",
       "      <td>0</td>\n",
       "      <td>0</td>\n",
       "      <td>0</td>\n",
       "      <td>...</td>\n",
       "      <td>0</td>\n",
       "      <td>0</td>\n",
       "      <td>0</td>\n",
       "      <td>0</td>\n",
       "      <td>0</td>\n",
       "      <td>0</td>\n",
       "      <td>0</td>\n",
       "      <td>0</td>\n",
       "      <td>0</td>\n",
       "      <td>0</td>\n",
       "    </tr>\n",
       "    <tr>\n",
       "      <th>82127</th>\n",
       "      <td>0</td>\n",
       "      <td>0</td>\n",
       "      <td>0</td>\n",
       "      <td>0</td>\n",
       "      <td>0</td>\n",
       "      <td>0</td>\n",
       "      <td>0</td>\n",
       "      <td>1</td>\n",
       "      <td>0</td>\n",
       "      <td>0</td>\n",
       "      <td>...</td>\n",
       "      <td>0</td>\n",
       "      <td>0</td>\n",
       "      <td>0</td>\n",
       "      <td>0</td>\n",
       "      <td>0</td>\n",
       "      <td>0</td>\n",
       "      <td>0</td>\n",
       "      <td>0</td>\n",
       "      <td>0</td>\n",
       "      <td>0</td>\n",
       "    </tr>\n",
       "    <tr>\n",
       "      <th>102268</th>\n",
       "      <td>0</td>\n",
       "      <td>0</td>\n",
       "      <td>0</td>\n",
       "      <td>0</td>\n",
       "      <td>0</td>\n",
       "      <td>0</td>\n",
       "      <td>0</td>\n",
       "      <td>0</td>\n",
       "      <td>0</td>\n",
       "      <td>0</td>\n",
       "      <td>...</td>\n",
       "      <td>0</td>\n",
       "      <td>0</td>\n",
       "      <td>0</td>\n",
       "      <td>0</td>\n",
       "      <td>0</td>\n",
       "      <td>0</td>\n",
       "      <td>0</td>\n",
       "      <td>0</td>\n",
       "      <td>0</td>\n",
       "      <td>0</td>\n",
       "    </tr>\n",
       "    <tr>\n",
       "      <th>122434</th>\n",
       "      <td>0</td>\n",
       "      <td>0</td>\n",
       "      <td>0</td>\n",
       "      <td>0</td>\n",
       "      <td>0</td>\n",
       "      <td>0</td>\n",
       "      <td>1</td>\n",
       "      <td>0</td>\n",
       "      <td>0</td>\n",
       "      <td>0</td>\n",
       "      <td>...</td>\n",
       "      <td>0</td>\n",
       "      <td>0</td>\n",
       "      <td>0</td>\n",
       "      <td>0</td>\n",
       "      <td>0</td>\n",
       "      <td>0</td>\n",
       "      <td>0</td>\n",
       "      <td>0</td>\n",
       "      <td>0</td>\n",
       "      <td>0</td>\n",
       "    </tr>\n",
       "    <tr>\n",
       "      <th>142578</th>\n",
       "      <td>0</td>\n",
       "      <td>1</td>\n",
       "      <td>0</td>\n",
       "      <td>0</td>\n",
       "      <td>0</td>\n",
       "      <td>0</td>\n",
       "      <td>0</td>\n",
       "      <td>0</td>\n",
       "      <td>0</td>\n",
       "      <td>0</td>\n",
       "      <td>...</td>\n",
       "      <td>0</td>\n",
       "      <td>0</td>\n",
       "      <td>0</td>\n",
       "      <td>0</td>\n",
       "      <td>0</td>\n",
       "      <td>0</td>\n",
       "      <td>0</td>\n",
       "      <td>0</td>\n",
       "      <td>0</td>\n",
       "      <td>0</td>\n",
       "    </tr>\n",
       "    <tr>\n",
       "      <th>162731</th>\n",
       "      <td>0</td>\n",
       "      <td>0</td>\n",
       "      <td>0</td>\n",
       "      <td>0</td>\n",
       "      <td>0</td>\n",
       "      <td>0</td>\n",
       "      <td>0</td>\n",
       "      <td>0</td>\n",
       "      <td>0</td>\n",
       "      <td>0</td>\n",
       "      <td>...</td>\n",
       "      <td>0</td>\n",
       "      <td>0</td>\n",
       "      <td>0</td>\n",
       "      <td>0</td>\n",
       "      <td>0</td>\n",
       "      <td>0</td>\n",
       "      <td>0</td>\n",
       "      <td>0</td>\n",
       "      <td>0</td>\n",
       "      <td>0</td>\n",
       "    </tr>\n",
       "  </tbody>\n",
       "</table>\n",
       "<p>9 rows × 415 columns</p>\n",
       "</div>"
      ],
      "text/plain": [
       "        CRIME_MONTH_01  CRIME_MONTH_02  CRIME_MONTH_03  CRIME_MONTH_04  \\\n",
       "0                    1               0               0               0   \n",
       "21649                0               0               0               0   \n",
       "41798                0               0               0               0   \n",
       "61960                1               0               0               0   \n",
       "82127                0               0               0               0   \n",
       "102268               0               0               0               0   \n",
       "122434               0               0               0               0   \n",
       "142578               0               1               0               0   \n",
       "162731               0               0               0               0   \n",
       "\n",
       "        CRIME_MONTH_05  CRIME_MONTH_06  CRIME_MONTH_07  CRIME_MONTH_08  \\\n",
       "0                    0               0               0               0   \n",
       "21649                0               0               0               0   \n",
       "41798                0               0               0               0   \n",
       "61960                0               0               0               0   \n",
       "82127                0               0               0               1   \n",
       "102268               0               0               0               0   \n",
       "122434               0               0               1               0   \n",
       "142578               0               0               0               0   \n",
       "162731               0               0               0               0   \n",
       "\n",
       "        CRIME_MONTH_09  CRIME_MONTH_10      ...       CITY_MAP_336  \\\n",
       "0                    0               0      ...                  0   \n",
       "21649                0               1      ...                  0   \n",
       "41798                0               0      ...                  0   \n",
       "61960                0               0      ...                  0   \n",
       "82127                0               0      ...                  0   \n",
       "102268               0               0      ...                  0   \n",
       "122434               0               0      ...                  0   \n",
       "142578               0               0      ...                  0   \n",
       "162731               0               0      ...                  0   \n",
       "\n",
       "        CITY_MAP_337  CITY_MAP_338  CITY_MAP_339  CITY_MAP_340  CITY_MAP_341  \\\n",
       "0                  0             0             0             0             0   \n",
       "21649              0             0             0             0             0   \n",
       "41798              0             0             0             0             0   \n",
       "61960              0             0             0             0             0   \n",
       "82127              0             0             0             0             0   \n",
       "102268             0             0             0             0             0   \n",
       "122434             0             0             0             0             0   \n",
       "142578             0             0             0             0             0   \n",
       "162731             0             0             0             0             0   \n",
       "\n",
       "        CITY_MAP_342  CITY_MAP_343  CITY_MAP_344  CITY_MAP_345  \n",
       "0                  0             0             0             0  \n",
       "21649              0             0             0             0  \n",
       "41798              0             0             0             0  \n",
       "61960              0             0             0             0  \n",
       "82127              0             0             0             0  \n",
       "102268             0             0             0             0  \n",
       "122434             0             0             0             0  \n",
       "142578             0             0             0             0  \n",
       "162731             0             0             0             0  \n",
       "\n",
       "[9 rows x 415 columns]"
      ]
     },
     "execution_count": 22,
     "metadata": {},
     "output_type": "execute_result"
    }
   ],
   "source": [
    "X[::20000]"
   ]
  },
  {
   "cell_type": "markdown",
   "metadata": {},
   "source": [
    "### Print y"
   ]
  },
  {
   "cell_type": "code",
   "execution_count": 23,
   "metadata": {},
   "outputs": [
    {
     "data": {
      "text/plain": [
       "0     6\n",
       "1    23\n",
       "2     6\n",
       "4     5\n",
       "6    23\n",
       "Name: CRIME_CATEGORY_NUMBER, dtype: int64"
      ]
     },
     "execution_count": 23,
     "metadata": {},
     "output_type": "execute_result"
    }
   ],
   "source": [
    "y.head()"
   ]
  },
  {
   "cell_type": "markdown",
   "metadata": {},
   "source": [
    "### Check shape"
   ]
  },
  {
   "cell_type": "code",
   "execution_count": 24,
   "metadata": {},
   "outputs": [
    {
     "name": "stdout",
     "output_type": "stream",
     "text": [
      "(167361, 415)\n",
      "(167361,)\n"
     ]
    }
   ],
   "source": [
    "print(X.shape)\n",
    "print(y.shape)"
   ]
  },
  {
   "cell_type": "markdown",
   "metadata": {},
   "source": [
    "## Machine Learning"
   ]
  },
  {
   "cell_type": "markdown",
   "metadata": {},
   "source": [
    "  * ** Classification **\n",
    "    * KNN\n",
    "    * Decision Tree\n",
    "    * Random Forest\n",
    "    \n",
    "    \n",
    "  * ** Regression **\n",
    "    * Logistic Regression\n",
    "    * Linear Regression"
   ]
  },
  {
   "cell_type": "markdown",
   "metadata": {},
   "source": [
    "### Imports"
   ]
  },
  {
   "cell_type": "code",
   "execution_count": 25,
   "metadata": {
    "collapsed": true
   },
   "outputs": [],
   "source": [
    "from sklearn.model_selection import train_test_split\n",
    "from sklearn.neighbors import KNeighborsClassifier\n",
    "from sklearn.linear_model import LogisticRegression\n",
    "from sklearn.tree import DecisionTreeClassifier\n",
    "from sklearn.linear_model import LinearRegression\n",
    "from sklearn.ensemble import RandomForestClassifier\n",
    "\n",
    "from sklearn.metrics import accuracy_score\n",
    "from sklearn import metrics"
   ]
  },
  {
   "cell_type": "markdown",
   "metadata": {},
   "source": [
    "### Split data"
   ]
  },
  {
   "cell_type": "code",
   "execution_count": 26,
   "metadata": {},
   "outputs": [
    {
     "name": "stdout",
     "output_type": "stream",
     "text": [
      "(117152, 415)\n",
      "(50209, 415)\n",
      "(117152,)\n",
      "(50209,)\n"
     ]
    }
   ],
   "source": [
    "X_train, X_test, y_train, y_test = train_test_split(X, y, test_size = 0.3)\n",
    "\n",
    "print(X_train.shape)\n",
    "print(X_test.shape)\n",
    "print(y_train.shape)\n",
    "print(y_test.shape)"
   ]
  },
  {
   "cell_type": "markdown",
   "metadata": {},
   "source": [
    "### Training"
   ]
  },
  {
   "cell_type": "code",
   "execution_count": 70,
   "metadata": {},
   "outputs": [],
   "source": [
    "#knn = KNeighborsClassifier(n_jobs=-1,n_neighbors = 15)\n",
    "#knn.fit(X_train, y_train)"
   ]
  },
  {
   "cell_type": "code",
   "execution_count": 71,
   "metadata": {},
   "outputs": [
    {
     "data": {
      "text/plain": [
       "DecisionTreeClassifier(class_weight=None, criterion='gini', max_depth=None,\n",
       "            max_features=None, max_leaf_nodes=None,\n",
       "            min_impurity_decrease=0.0, min_impurity_split=None,\n",
       "            min_samples_leaf=1, min_samples_split=2,\n",
       "            min_weight_fraction_leaf=0.0, presort=False, random_state=None,\n",
       "            splitter='best')"
      ]
     },
     "execution_count": 71,
     "metadata": {},
     "output_type": "execute_result"
    }
   ],
   "source": [
    "decision_tree = DecisionTreeClassifier()\n",
    "decision_tree.fit(X_train, y_train)"
   ]
  },
  {
   "cell_type": "code",
   "execution_count": 72,
   "metadata": {},
   "outputs": [
    {
     "data": {
      "text/plain": [
       "RandomForestClassifier(bootstrap=True, class_weight=None, criterion='gini',\n",
       "            max_depth=None, max_features='auto', max_leaf_nodes=None,\n",
       "            min_impurity_decrease=0.0, min_impurity_split=None,\n",
       "            min_samples_leaf=1, min_samples_split=2,\n",
       "            min_weight_fraction_leaf=0.0, n_estimators=19, n_jobs=-1,\n",
       "            oob_score=False, random_state=2, verbose=0, warm_start=False)"
      ]
     },
     "execution_count": 72,
     "metadata": {},
     "output_type": "execute_result"
    }
   ],
   "source": [
    "random_forest = RandomForestClassifier(n_estimators = 19, bootstrap = True, random_state = 2, n_jobs = -1)\n",
    "random_forest.fit(X_train, y_train)\n"
   ]
  },
  {
   "cell_type": "markdown",
   "metadata": {},
   "source": [
    "### Prediction"
   ]
  },
  {
   "cell_type": "code",
   "execution_count": 73,
   "metadata": {},
   "outputs": [],
   "source": [
    "#y_knn_predict = knn.predict(X_test)"
   ]
  },
  {
   "cell_type": "code",
   "execution_count": 74,
   "metadata": {
    "collapsed": true
   },
   "outputs": [],
   "source": [
    "y_dt_predict = decision_tree.predict(X_test)"
   ]
  },
  {
   "cell_type": "code",
   "execution_count": 75,
   "metadata": {
    "collapsed": true
   },
   "outputs": [],
   "source": [
    "y_random_forest_predict = random_forest.predict(X_test)"
   ]
  },
  {
   "cell_type": "markdown",
   "metadata": {},
   "source": [
    "### Accuracy Score"
   ]
  },
  {
   "cell_type": "code",
   "execution_count": 76,
   "metadata": {
    "collapsed": true
   },
   "outputs": [],
   "source": [
    "#knn_accuracy = accuracy_score(y_test, y_knn_predict)\n",
    "#print(\"KNN: \", knn_accuracy)"
   ]
  },
  {
   "cell_type": "code",
   "execution_count": 77,
   "metadata": {},
   "outputs": [
    {
     "name": "stdout",
     "output_type": "stream",
     "text": [
      "Decision Tree:  0.161206158258\n"
     ]
    }
   ],
   "source": [
    "dt_accuracy = accuracy_score(y_test, y_dt_predict)\n",
    "print(\"Decision Tree: \", dt_accuracy)"
   ]
  },
  {
   "cell_type": "code",
   "execution_count": 78,
   "metadata": {},
   "outputs": [
    {
     "name": "stdout",
     "output_type": "stream",
     "text": [
      "Random Forest:  0.190304527077\n"
     ]
    }
   ],
   "source": [
    "random_forest_accuracy = accuracy_score(y_test, y_random_forest_predict)\n",
    "print(\"Random Forest: \", random_forest_accuracy)"
   ]
  },
  {
   "cell_type": "markdown",
   "metadata": {},
   "source": [
    "## Regression"
   ]
  },
  {
   "cell_type": "markdown",
   "metadata": {},
   "source": [
    "### Training"
   ]
  },
  {
   "cell_type": "code",
   "execution_count": 81,
   "metadata": {},
   "outputs": [
    {
     "data": {
      "text/plain": [
       "LogisticRegression(C=1.0, class_weight=None, dual=False, fit_intercept=True,\n",
       "          intercept_scaling=1, max_iter=100, multi_class='ovr', n_jobs=1,\n",
       "          penalty='l2', random_state=None, solver='liblinear', tol=0.0001,\n",
       "          verbose=0, warm_start=False)"
      ]
     },
     "execution_count": 81,
     "metadata": {},
     "output_type": "execute_result"
    }
   ],
   "source": [
    "log_reg = LogisticRegression()\n",
    "log_reg.fit(X_train, y_train)"
   ]
  },
  {
   "cell_type": "code",
   "execution_count": 86,
   "metadata": {},
   "outputs": [
    {
     "data": {
      "text/plain": [
       "LinearRegression(copy_X=True, fit_intercept=True, n_jobs=1, normalize=False)"
      ]
     },
     "execution_count": 86,
     "metadata": {},
     "output_type": "execute_result"
    }
   ],
   "source": [
    "linear_reg = LinearRegression()\n",
    "linear_reg.fit(X_train, y_train)"
   ]
  },
  {
   "cell_type": "markdown",
   "metadata": {},
   "source": [
    "### Prediction"
   ]
  },
  {
   "cell_type": "code",
   "execution_count": 87,
   "metadata": {
    "collapsed": true
   },
   "outputs": [],
   "source": [
    "y_log_reg_predict = log_reg.predict(X_test)"
   ]
  },
  {
   "cell_type": "code",
   "execution_count": 88,
   "metadata": {
    "collapsed": true
   },
   "outputs": [],
   "source": [
    "y_linear_reg_predict = linear_reg.predict(X_test)"
   ]
  },
  {
   "cell_type": "markdown",
   "metadata": {},
   "source": [
    "### Accuracy Score"
   ]
  },
  {
   "cell_type": "code",
   "execution_count": 89,
   "metadata": {},
   "outputs": [
    {
     "name": "stdout",
     "output_type": "stream",
     "text": [
      "Logistic Regression:  0.238702224701\n"
     ]
    }
   ],
   "source": [
    "log_reg_score = accuracy_score(y_test, y_log_reg_predict)\n",
    "print(\"Logistic Regression: \", log_reg_score)"
   ]
  },
  {
   "cell_type": "code",
   "execution_count": 90,
   "metadata": {
    "collapsed": true
   },
   "outputs": [],
   "source": [
    "#linear_reg_score = accuracy_score(y_test, y_linear_reg_predict)\n",
    "#print(\"Linear Regression:\", linear_reg_score)"
   ]
  },
  {
   "cell_type": "markdown",
   "metadata": {},
   "source": [
    "### Estimate Probability"
   ]
  },
  {
   "cell_type": "code",
   "execution_count": 91,
   "metadata": {},
   "outputs": [
    {
     "name": "stdout",
     "output_type": "stream",
     "text": [
      "\n",
      "Predict Probability:\n",
      " [ 0.0038854   0.00269077  0.00289514 ...,  0.00714049  0.00855334\n",
      "  0.00131407]\n"
     ]
    }
   ],
   "source": [
    "# Estimating the probability (likelihood) of Each Label: \n",
    "y_log_reg_predict_prob = log_reg.predict_proba(X_test)\n",
    "print(\"\\nPredict Probability:\\n\", y_log_reg_predict_prob[:,1])"
   ]
  },
  {
   "cell_type": "markdown",
   "metadata": {},
   "source": [
    "### True Positive Rate and False Positive Rate"
   ]
  },
  {
   "cell_type": "code",
   "execution_count": 92,
   "metadata": {},
   "outputs": [
    {
     "name": "stdout",
     "output_type": "stream",
     "text": [
      "[  0.00000000e+00   1.99385891e-05   9.76990868e-04 ...,   9.99860430e-01\n",
      "   9.99900307e-01   1.00000000e+00]\n",
      "[ 0.  0.  0. ...,  1.  1.  1.]\n"
     ]
    }
   ],
   "source": [
    "fpr, tpr, thresholds = metrics.roc_curve(y_test, y_log_reg_predict_prob[:,1], pos_label=1)\n",
    "\n",
    "print(fpr)\n",
    "print(tpr)"
   ]
  },
  {
   "cell_type": "markdown",
   "metadata": {},
   "source": [
    "### AUC"
   ]
  },
  {
   "cell_type": "code",
   "execution_count": 93,
   "metadata": {},
   "outputs": [
    {
     "name": "stdout",
     "output_type": "stream",
     "text": [
      "0.480265328244\n"
     ]
    }
   ],
   "source": [
    "# AUC\n",
    "AUC = metrics.auc(fpr, tpr)\n",
    "print(AUC)"
   ]
  },
  {
   "cell_type": "markdown",
   "metadata": {},
   "source": [
    "### ROC Curve"
   ]
  },
  {
   "cell_type": "code",
   "execution_count": 94,
   "metadata": {},
   "outputs": [
    {
     "data": {
      "image/png": "[encoded data removed]",
      "text/plain": [
       "<matplotlib.figure.Figure at 0x11c0b9cc0>"
      ]
     },
     "metadata": {},
     "output_type": "display_data"
    }
   ],
   "source": [
    "plt.figure()\n",
    "\n",
    "# Roc Curve:\n",
    "plt.plot(fpr, tpr, color='red', lw=2, \n",
    "         label='ROC Curve (area = %0.2f)' % AUC)\n",
    "\n",
    "# Random Guess line:\n",
    "plt.plot([0, 1], [0, 1], color='blue', lw=1, linestyle='--')\n",
    "\n",
    "# Defining The Range of X-Axis and Y-Axis:\n",
    "plt.xlim([-0.005, 1.005])\n",
    "plt.ylim([0.0, 1.01])\n",
    "\n",
    "# Labels, Title, Legend:\n",
    "plt.xlabel('False Positive Rate')\n",
    "plt.ylabel('True Positive Rate')\n",
    "plt.title('Receiver operating characteristic')\n",
    "plt.legend(loc=\"lower right\")\n",
    "\n",
    "plt.show()"
   ]
  },
  {
   "cell_type": "markdown",
   "metadata": {},
   "source": [
    "# Unsupervised\n",
    "### KMeans"
   ]
  },
  {
   "cell_type": "markdown",
   "metadata": {},
   "source": [
    "#### Preprocess"
   ]
  },
  {
   "cell_type": "code",
   "execution_count": 95,
   "metadata": {},
   "outputs": [],
   "source": [
    "from sklearn.cluster import KMeans\n",
    "%matplotlib inline\n",
    "\n",
    "from sklearn.preprocessing import MinMaxScaler\n",
    "\n",
    "mms = MinMaxScaler() # for scaling/normalizing\n",
    "\n",
    "feats = [\"CRIME_MONTH\", \"CRIME_HOUR\", \"CITY_MAP\", \"CRIME_CATEGORY_NUMBER\" ]"
   ]
  },
  {
   "cell_type": "markdown",
   "metadata": {},
   "source": [
    "##### CITY_MAP vs CRIME_CATEGORY_NUMBER"
   ]
  },
  {
   "cell_type": "code",
   "execution_count": 96,
   "metadata": {},
   "outputs": [
    {
     "name": "stderr",
     "output_type": "stream",
     "text": [
      "/usr/local/lib/python3.5/site-packages/ipykernel_launcher.py:3: SettingWithCopyWarning: \n",
      "A value is trying to be set on a copy of a slice from a DataFrame.\n",
      "Try using .loc[row_indexer,col_indexer] = value instead\n",
      "\n",
      "See the caveats in the documentation: http://pandas.pydata.org/pandas-docs/stable/indexing.html#indexing-view-versus-copy\n",
      "  This is separate from the ipykernel package so we can avoid doing imports until\n"
     ]
    }
   ],
   "source": [
    "city_map = [\"CITY_MAP\"]\n",
    "city_crime_cat = X_prep_df[city_map]\n",
    "city_crime_cat[\"CRIME_CATEGORY_NUMBER\"] = y_sheriff_df[\"CRIME_CATEGORY_NUMBER\"]\n",
    "city_crime_cat_df = pd.DataFrame(mms.fit_transform(city_crime_cat))"
   ]
  },
  {
   "cell_type": "code",
   "execution_count": 97,
   "metadata": {},
   "outputs": [
    {
     "data": {
      "text/plain": [
       "KMeans(algorithm='auto', copy_x=True, init='k-means++', max_iter=300,\n",
       "    n_clusters=4, n_init=10, n_jobs=1, precompute_distances='auto',\n",
       "    random_state=True, tol=0.0001, verbose=0)"
      ]
     },
     "execution_count": 97,
     "metadata": {},
     "output_type": "execute_result"
    }
   ],
   "source": [
    "K_Means = KMeans(n_clusters=4, random_state=True)\n",
    "K_Means.fit(city_crime_cat_df)"
   ]
  },
  {
   "cell_type": "code",
   "execution_count": 98,
   "metadata": {
    "collapsed": true
   },
   "outputs": [],
   "source": [
    "labels = K_Means.labels_\n",
    "centers = K_Means.cluster_centers_"
   ]
  },
  {
   "cell_type": "markdown",
   "metadata": {},
   "source": [
    "##### Plotting only handles __two__ features at a time"
   ]
  },
  {
   "cell_type": "code",
   "execution_count": 99,
   "metadata": {},
   "outputs": [
    {
     "data": {
      "image/png": "[encoded data removed]",
      "text/plain": [
       "<matplotlib.figure.Figure at 0x11c0a6fd0>"
      ]
     },
     "metadata": {},
     "output_type": "display_data"
    }
   ],
   "source": [
    "plt.figure\n",
    "\n",
    "for l, c in zip([0, 1, 2, 3], [\"red\", \"blue\", \"green\", \"orange\"]):\n",
    "    current_members = (labels == l)\n",
    "    current_center = centers[l]\n",
    "    \n",
    "    plt.scatter(city_crime_cat_df.iloc[current_members, 0], city_crime_cat_df.iloc[current_members, 1], color=c, marker=\"x\")\n",
    "    plt.plot(current_center[0], current_center[1], \"o\", markerfacecolor=c, markeredgecolor=\"k\", markersize=7)\n",
    "    \n",
    "plt.xlim([-0.1, 1.1])\n",
    "plt.ylim([-0.1, 1.1])\n",
    "\n",
    "plt.xlabel(\"CITY_MAP\")\n",
    "plt.ylabel(\"CRIME_CATEGORY_NUMBER\")\n",
    "plt.title(\"KMEANS for Sheriff Crime Dataset\")\n",
    "\n",
    "plt.show()"
   ]
  },
  {
   "cell_type": "markdown",
   "metadata": {
    "collapsed": true
   },
   "source": [
    "##### CRIME_MONTH vs CRIME_CATEGORY_NUMBER"
   ]
  },
  {
   "cell_type": "code",
   "execution_count": 100,
   "metadata": {},
   "outputs": [
    {
     "name": "stderr",
     "output_type": "stream",
     "text": [
      "/usr/local/lib/python3.5/site-packages/ipykernel_launcher.py:3: SettingWithCopyWarning: \n",
      "A value is trying to be set on a copy of a slice from a DataFrame.\n",
      "Try using .loc[row_indexer,col_indexer] = value instead\n",
      "\n",
      "See the caveats in the documentation: http://pandas.pydata.org/pandas-docs/stable/indexing.html#indexing-view-versus-copy\n",
      "  This is separate from the ipykernel package so we can avoid doing imports until\n"
     ]
    }
   ],
   "source": [
    "crime_month = [\"CRIME_MONTH\"]\n",
    "month_crime_cat = X_prep_df[crime_month]\n",
    "month_crime_cat[\"CRIME_CATEGORY_NUMBER\"] = y_sheriff_df[\"CRIME_CATEGORY_NUMBER\"]\n",
    "month_crime_cat_df = pd.DataFrame(mms.fit_transform(month_crime_cat))"
   ]
  },
  {
   "cell_type": "code",
   "execution_count": 101,
   "metadata": {},
   "outputs": [
    {
     "data": {
      "text/plain": [
       "KMeans(algorithm='auto', copy_x=True, init='k-means++', max_iter=300,\n",
       "    n_clusters=5, n_init=10, n_jobs=1, precompute_distances='auto',\n",
       "    random_state=True, tol=0.0001, verbose=0)"
      ]
     },
     "execution_count": 101,
     "metadata": {},
     "output_type": "execute_result"
    }
   ],
   "source": [
    "K_Means_mc = KMeans(n_clusters=5, random_state=True)\n",
    "K_Means_mc.fit(month_crime_cat_df)"
   ]
  },
  {
   "cell_type": "code",
   "execution_count": 102,
   "metadata": {
    "collapsed": true
   },
   "outputs": [],
   "source": [
    "labels_mc = K_Means_mc.labels_\n",
    "centers_mc = K_Means_mc.cluster_centers_"
   ]
  },
  {
   "cell_type": "code",
   "execution_count": 103,
   "metadata": {},
   "outputs": [
    {
     "data": {
      "image/png": "[encoded data removed]",
      "text/plain": [
       "<matplotlib.figure.Figure at 0x11c0d72e8>"
      ]
     },
     "metadata": {},
     "output_type": "display_data"
    }
   ],
   "source": [
    "plt.figure\n",
    "\n",
    "for l, c in zip([0, 1, 2, 3, 4], [\"red\", \"blue\", \"green\", \"orange\", \"pink\"]):\n",
    "    current_members = (labels_mc == l)\n",
    "    current_center = centers_mc[l]\n",
    "    \n",
    "    plt.scatter(month_crime_cat_df.iloc[current_members, 0], month_crime_cat_df.iloc[current_members, 1], color=c, marker=\"x\")\n",
    "    plt.plot(current_center[0], current_center[1], \"o\", markerfacecolor=c, markeredgecolor=\"k\", markersize=7)\n",
    "    \n",
    "plt.xlim([-0.1, 1.1])\n",
    "plt.ylim([-0.1, 1.1])\n",
    "\n",
    "plt.xlabel(\"CRIME_MONTH\")\n",
    "plt.ylabel(\"CRIME_CATEGORY_NUMBER\")\n",
    "plt.title(\"KMEANS for Sheriff Crime Dataset\")\n",
    "\n",
    "plt.show()"
   ]
  },
  {
   "cell_type": "markdown",
   "metadata": {},
   "source": [
    "##### CITY_MAP vs CRIME_MONTH"
   ]
  },
  {
   "cell_type": "code",
   "execution_count": 104,
   "metadata": {
    "collapsed": true
   },
   "outputs": [],
   "source": [
    "#month_city = [\"CRIME_MONTH\", \"CITY_MAP\"]\n",
    "month_city = [\"CITY_MAP\", \"CRIME_MONTH\"]\n",
    "month_city = X_prep_df[month_city]\n",
    "\n",
    "month_city_df = pd.DataFrame(mms.fit_transform(month_city))"
   ]
  },
  {
   "cell_type": "code",
   "execution_count": 105,
   "metadata": {},
   "outputs": [
    {
     "data": {
      "text/plain": [
       "KMeans(algorithm='auto', copy_x=True, init='k-means++', max_iter=300,\n",
       "    n_clusters=5, n_init=10, n_jobs=1, precompute_distances='auto',\n",
       "    random_state=True, tol=0.0001, verbose=0)"
      ]
     },
     "execution_count": 105,
     "metadata": {},
     "output_type": "execute_result"
    }
   ],
   "source": [
    "K_Means_mm = KMeans(n_clusters=5, random_state=True)\n",
    "K_Means_mm.fit(month_city_df)"
   ]
  },
  {
   "cell_type": "code",
   "execution_count": 106,
   "metadata": {
    "collapsed": true
   },
   "outputs": [],
   "source": [
    "labels_mm = K_Means_mc.labels_\n",
    "centers_mm = K_Means_mc.cluster_centers_"
   ]
  },
  {
   "cell_type": "code",
   "execution_count": 107,
   "metadata": {},
   "outputs": [
    {
     "data": {
      "image/png": "[encoded data removed]",
      "text/plain": [
       "<matplotlib.figure.Figure at 0x11c0cdc18>"
      ]
     },
     "metadata": {},
     "output_type": "display_data"
    }
   ],
   "source": [
    "plt.figure\n",
    "\n",
    "for l, c in zip([0, 1, 2, 3, 4], [\"red\", \"blue\", \"yellow\", \"orange\", \"pink\"]):\n",
    "    current_members = (labels_mm == l)\n",
    "    current_center = centers_mm[l]\n",
    "    \n",
    "    plt.scatter(month_city_df.iloc[current_members, 0], month_city_df.iloc[current_members, 1], color=c, alpha=0.1,marker=\"x\")\n",
    "    plt.plot(current_center[0], current_center[1], \"o\", markerfacecolor=c, markeredgecolor=\"k\", markersize=7)\n",
    "    \n",
    "plt.xlim([-0.1, 1.1])\n",
    "plt.ylim([-0.1, 1.1])\n",
    "\n",
    "plt.xlabel(\"CITY_MAP\")\n",
    "plt.ylabel(\"CRIME_MONTH\")\n",
    "#plt.legend(loc=2)\n",
    "plt.title(\"KMEANS for Sheriff Crime Dataset\")\n",
    "\n",
    "plt.show()"
   ]
  },
  {
   "cell_type": "markdown",
   "metadata": {},
   "source": []
  },
  {
   "cell_type": "code",
   "execution_count": null,
   "metadata": {
    "collapsed": true
   },
   "outputs": [],
   "source": []
  }
 ],
 "metadata": {
  "anaconda-cloud": {},
  "kernelspec": {
   "display_name": "Python 3",
   "language": "python",
   "name": "python3"
  },
  "language_info": {
   "codemirror_mode": {
    "name": "ipython",
    "version": 3
   },
   "file_extension": ".py",
   "mimetype": "text/x-python",
   "name": "python",
   "nbconvert_exporter": "python",
   "pygments_lexer": "ipython3",
   "version": "3.5.2"
  }
 },
 "nbformat": 4,
 "nbformat_minor": 2
}
